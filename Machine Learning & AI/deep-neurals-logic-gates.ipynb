{
 "cells": [
  {
   "cell_type": "code",
   "execution_count": 40,
   "metadata": {},
   "outputs": [
    {
     "name": "stdout",
     "output_type": "stream",
     "text": [
      "Input Data: [[0, 0], [0, 1], [1, 0], [1, 1]]\n",
      "Output Labels: [0, 1, 1, 1]\n"
     ]
    }
   ],
   "source": [
    "# Input data for OR gate\n",
    "input_data = [\n",
    "    [0, 0],\n",
    "    [0, 1],\n",
    "    [1, 0],\n",
    "    [1, 1]\n",
    "]\n",
    "\n",
    "# Output labels for OR gate\n",
    "output_labels = [\n",
    "    0,\n",
    "    1,\n",
    "    1,\n",
    "    1\n",
    "]\n",
    "\n",
    "print(\"Input Data:\", input_data)\n",
    "print(\"Output Labels:\", output_labels)"
   ]
  },
  {
   "cell_type": "code",
   "execution_count": 41,
   "metadata": {},
   "outputs": [],
   "source": [
    "from keras.models import Sequential\n",
    "from keras.layers import Dense\n",
    "from keras.optimizers import SGD\n",
    "from keras.metrics import mean_squared_error"
   ]
  },
  {
   "cell_type": "code",
   "execution_count": 51,
   "metadata": {},
   "outputs": [],
   "source": [
    "model2 = Sequential()\n",
    "model.add(Dense(1, input_dim=2, activation='sigmoid'))"
   ]
  },
  {
   "cell_type": "code",
   "execution_count": 42,
   "metadata": {},
   "outputs": [
    {
     "name": "stderr",
     "output_type": "stream",
     "text": [
      "c:\\Users\\brian\\AppData\\Local\\Programs\\Python\\Python311\\Lib\\site-packages\\keras\\src\\layers\\core\\dense.py:87: UserWarning: Do not pass an `input_shape`/`input_dim` argument to a layer. When using Sequential models, prefer using an `Input(shape)` object as the first layer in the model instead.\n",
      "  super().__init__(activity_regularizer=activity_regularizer, **kwargs)\n"
     ]
    }
   ],
   "source": [
    "model = Sequential([\n",
    "    Dense(7, input_shape=(2,), activation='relu'),\n",
    "    Dense(5, activation='relu'),\n",
    "    Dense(3, activation='relu'),\n",
    "    Dense(1, activation='sigmoid')\n",
    "])"
   ]
  },
  {
   "cell_type": "code",
   "execution_count": 43,
   "metadata": {},
   "outputs": [],
   "source": [
    "model.compile(optimizer=SGD(),loss='mean_squared_error',metrics=['mean_squared_error','accuracy'])"
   ]
  },
  {
   "cell_type": "code",
   "execution_count": 44,
   "metadata": {},
   "outputs": [],
   "source": [
    "import numpy as np\n",
    "\n",
    "input_data = np.array(input_data)\n",
    "output_labels = np.array(output_labels)"
   ]
  },
  {
   "cell_type": "code",
   "execution_count": null,
   "metadata": {},
   "outputs": [],
   "source": [
    "model.fit(input_data, output_labels, batch_size=1,  epochs=2000, verbose=2)"
   ]
  },
  {
   "cell_type": "code",
   "execution_count": 46,
   "metadata": {},
   "outputs": [
    {
     "data": {
      "text/plain": [
       "[array([[ 0.12982938, -0.60041773,  0.30657095,  1.0759568 , -0.05310953,\n",
       "         -0.47660753, -0.23122954],\n",
       "        [-0.18204615,  0.49629265,  0.11260329,  0.85735613, -0.5380188 ,\n",
       "         -0.5908161 , -0.27787977]], dtype=float32),\n",
       " array([-0.12988329,  0.00019046,  0.15757853, -0.00108893,  0.        ,\n",
       "         0.        ,  0.        ], dtype=float32),\n",
       " array([[-0.00743455, -0.07775999,  0.29373938, -0.25539634, -0.21717075],\n",
       "        [ 0.3968864 ,  0.55132115,  0.23195353,  0.8203928 , -0.12640041],\n",
       "        [ 0.22091103, -0.13150488,  0.43649662,  0.3408372 , -0.20308137],\n",
       "        [-0.70708674, -0.05747462, -0.624074  ,  1.183441  , -0.09920859],\n",
       "        [-0.3553571 , -0.51723385, -0.15728766,  0.14628446, -0.19831187],\n",
       "        [ 0.23772424, -0.38737607, -0.4100546 , -0.01291668, -0.20255148],\n",
       "        [ 0.4322601 ,  0.4663325 ,  0.17702132,  0.6066386 ,  0.1133005 ]],\n",
       "       dtype=float32),\n",
       " array([-0.03503183, -0.18898104,  0.30202475,  0.07517511,  0.        ],\n",
       "       dtype=float32),\n",
       " array([[ 0.47245836,  0.06962623,  0.29563898],\n",
       "        [-0.158347  , -0.53793436, -0.3324561 ],\n",
       "        [-0.6255755 , -0.40559396,  0.489634  ],\n",
       "        [ 1.3207116 ,  0.74884427, -0.08423235],\n",
       "        [ 0.7546398 ,  0.43763918, -0.8042815 ]], dtype=float32),\n",
       " array([ 0.05772977,  0.05189328, -0.17127943], dtype=float32),\n",
       " array([[1.1419445 ],\n",
       "        [0.97152334],\n",
       "        [0.7175303 ]], dtype=float32),\n",
       " array([-0.7272252], dtype=float32)]"
      ]
     },
     "execution_count": 46,
     "metadata": {},
     "output_type": "execute_result"
    }
   ],
   "source": [
    "model.get_weights()"
   ]
  },
  {
   "cell_type": "code",
   "execution_count": 47,
   "metadata": {},
   "outputs": [
    {
     "name": "stdout",
     "output_type": "stream",
     "text": [
      "0\n",
      "1\n",
      "1\n",
      "1\n"
     ]
    }
   ],
   "source": [
    "predictions = model.predict(input_data, batch_size=1, verbose=0)\n",
    "for i in predictions:\n",
    "    print(round(i[0]))"
   ]
  },
  {
   "cell_type": "markdown",
   "metadata": {},
   "source": [
    "### XOR"
   ]
  },
  {
   "cell_type": "code",
   "execution_count": 54,
   "metadata": {},
   "outputs": [
    {
     "name": "stdout",
     "output_type": "stream",
     "text": [
      "Input XOR Data: [[0, 0], [0, 1], [1, 0], [1, 1]]\n",
      "Output XOR Labels: [0, 1, 1, 0]\n"
     ]
    }
   ],
   "source": [
    "input_xor_data = [\n",
    "    [0, 0],\n",
    "    [0, 1],\n",
    "    [1, 0],\n",
    "    [1, 1]\n",
    "]\n",
    "output_xor_labels = [\n",
    "    0,\n",
    "    1,\n",
    "    1,\n",
    "    0\n",
    "]\n",
    "print(\"Input XOR Data:\", input_xor_data)\n",
    "print(\"Output XOR Labels:\", output_xor_labels)"
   ]
  },
  {
   "cell_type": "code",
   "execution_count": 60,
   "metadata": {},
   "outputs": [
    {
     "name": "stderr",
     "output_type": "stream",
     "text": [
      "c:\\Users\\brian\\AppData\\Local\\Programs\\Python\\Python311\\Lib\\site-packages\\keras\\src\\layers\\core\\dense.py:87: UserWarning: Do not pass an `input_shape`/`input_dim` argument to a layer. When using Sequential models, prefer using an `Input(shape)` object as the first layer in the model instead.\n",
      "  super().__init__(activity_regularizer=activity_regularizer, **kwargs)\n"
     ]
    },
    {
     "name": "stdout",
     "output_type": "stream",
     "text": [
      "Epoch 1/50\n",
      "4/4 - 1s - 251ms/step - binary_accuracy: 0.5000 - loss: 0.2558 - mean_squared_error: 0.2558\n",
      "Epoch 2/50\n",
      "4/4 - 0s - 16ms/step - binary_accuracy: 0.5000 - loss: 0.2557 - mean_squared_error: 0.2557\n",
      "Epoch 3/50\n",
      "4/4 - 0s - 16ms/step - binary_accuracy: 0.5000 - loss: 0.2556 - mean_squared_error: 0.2556\n",
      "Epoch 4/50\n",
      "4/4 - 0s - 17ms/step - binary_accuracy: 0.5000 - loss: 0.2555 - mean_squared_error: 0.2555\n",
      "Epoch 5/50\n",
      "4/4 - 0s - 16ms/step - binary_accuracy: 0.5000 - loss: 0.2554 - mean_squared_error: 0.2554\n",
      "Epoch 6/50\n",
      "4/4 - 0s - 15ms/step - binary_accuracy: 0.5000 - loss: 0.2553 - mean_squared_error: 0.2553\n",
      "Epoch 7/50\n",
      "4/4 - 0s - 15ms/step - binary_accuracy: 0.5000 - loss: 0.2552 - mean_squared_error: 0.2552\n",
      "Epoch 8/50\n",
      "4/4 - 0s - 15ms/step - binary_accuracy: 0.5000 - loss: 0.2551 - mean_squared_error: 0.2551\n",
      "Epoch 9/50\n",
      "4/4 - 0s - 15ms/step - binary_accuracy: 0.5000 - loss: 0.2550 - mean_squared_error: 0.2550\n",
      "Epoch 10/50\n",
      "4/4 - 0s - 14ms/step - binary_accuracy: 0.5000 - loss: 0.2549 - mean_squared_error: 0.2549\n",
      "Epoch 11/50\n",
      "4/4 - 0s - 14ms/step - binary_accuracy: 0.5000 - loss: 0.2548 - mean_squared_error: 0.2548\n",
      "Epoch 12/50\n",
      "4/4 - 0s - 15ms/step - binary_accuracy: 0.5000 - loss: 0.2547 - mean_squared_error: 0.2547\n",
      "Epoch 13/50\n",
      "4/4 - 0s - 16ms/step - binary_accuracy: 0.5000 - loss: 0.2546 - mean_squared_error: 0.2546\n",
      "Epoch 14/50\n",
      "4/4 - 0s - 17ms/step - binary_accuracy: 0.5000 - loss: 0.2545 - mean_squared_error: 0.2545\n",
      "Epoch 15/50\n",
      "4/4 - 0s - 14ms/step - binary_accuracy: 0.5000 - loss: 0.2545 - mean_squared_error: 0.2545\n",
      "Epoch 16/50\n",
      "4/4 - 0s - 15ms/step - binary_accuracy: 0.5000 - loss: 0.2544 - mean_squared_error: 0.2544\n",
      "Epoch 17/50\n",
      "4/4 - 0s - 15ms/step - binary_accuracy: 0.5000 - loss: 0.2543 - mean_squared_error: 0.2543\n",
      "Epoch 18/50\n",
      "4/4 - 0s - 15ms/step - binary_accuracy: 0.5000 - loss: 0.2542 - mean_squared_error: 0.2542\n",
      "Epoch 19/50\n",
      "4/4 - 0s - 15ms/step - binary_accuracy: 0.5000 - loss: 0.2541 - mean_squared_error: 0.2541\n",
      "Epoch 20/50\n",
      "4/4 - 0s - 16ms/step - binary_accuracy: 0.5000 - loss: 0.2541 - mean_squared_error: 0.2541\n",
      "Epoch 21/50\n",
      "4/4 - 0s - 17ms/step - binary_accuracy: 0.5000 - loss: 0.2540 - mean_squared_error: 0.2540\n",
      "Epoch 22/50\n",
      "4/4 - 0s - 18ms/step - binary_accuracy: 0.5000 - loss: 0.2539 - mean_squared_error: 0.2539\n",
      "Epoch 23/50\n",
      "4/4 - 0s - 16ms/step - binary_accuracy: 0.5000 - loss: 0.2538 - mean_squared_error: 0.2538\n",
      "Epoch 24/50\n",
      "4/4 - 0s - 17ms/step - binary_accuracy: 0.5000 - loss: 0.2538 - mean_squared_error: 0.2538\n",
      "Epoch 25/50\n",
      "4/4 - 0s - 17ms/step - binary_accuracy: 0.5000 - loss: 0.2537 - mean_squared_error: 0.2537\n",
      "Epoch 26/50\n",
      "4/4 - 0s - 17ms/step - binary_accuracy: 0.5000 - loss: 0.2536 - mean_squared_error: 0.2536\n",
      "Epoch 27/50\n",
      "4/4 - 0s - 15ms/step - binary_accuracy: 0.5000 - loss: 0.2535 - mean_squared_error: 0.2535\n",
      "Epoch 28/50\n",
      "4/4 - 0s - 17ms/step - binary_accuracy: 0.5000 - loss: 0.2535 - mean_squared_error: 0.2535\n",
      "Epoch 29/50\n",
      "4/4 - 0s - 16ms/step - binary_accuracy: 0.5000 - loss: 0.2534 - mean_squared_error: 0.2534\n",
      "Epoch 30/50\n",
      "4/4 - 0s - 18ms/step - binary_accuracy: 0.5000 - loss: 0.2533 - mean_squared_error: 0.2533\n",
      "Epoch 31/50\n",
      "4/4 - 0s - 16ms/step - binary_accuracy: 0.5000 - loss: 0.2533 - mean_squared_error: 0.2533\n",
      "Epoch 32/50\n",
      "4/4 - 0s - 15ms/step - binary_accuracy: 0.5000 - loss: 0.2532 - mean_squared_error: 0.2532\n",
      "Epoch 33/50\n",
      "4/4 - 0s - 15ms/step - binary_accuracy: 0.5000 - loss: 0.2532 - mean_squared_error: 0.2532\n",
      "Epoch 34/50\n",
      "4/4 - 0s - 15ms/step - binary_accuracy: 0.5000 - loss: 0.2531 - mean_squared_error: 0.2531\n",
      "Epoch 35/50\n",
      "4/4 - 0s - 17ms/step - binary_accuracy: 0.5000 - loss: 0.2530 - mean_squared_error: 0.2530\n",
      "Epoch 36/50\n",
      "4/4 - 0s - 21ms/step - binary_accuracy: 0.5000 - loss: 0.2530 - mean_squared_error: 0.2530\n",
      "Epoch 37/50\n",
      "4/4 - 0s - 17ms/step - binary_accuracy: 0.5000 - loss: 0.2529 - mean_squared_error: 0.2529\n",
      "Epoch 38/50\n",
      "4/4 - 0s - 16ms/step - binary_accuracy: 0.5000 - loss: 0.2529 - mean_squared_error: 0.2529\n",
      "Epoch 39/50\n",
      "4/4 - 0s - 16ms/step - binary_accuracy: 0.5000 - loss: 0.2528 - mean_squared_error: 0.2528\n",
      "Epoch 40/50\n",
      "4/4 - 0s - 16ms/step - binary_accuracy: 0.5000 - loss: 0.2528 - mean_squared_error: 0.2528\n",
      "Epoch 41/50\n",
      "4/4 - 0s - 17ms/step - binary_accuracy: 0.5000 - loss: 0.2527 - mean_squared_error: 0.2527\n",
      "Epoch 42/50\n",
      "4/4 - 0s - 20ms/step - binary_accuracy: 0.5000 - loss: 0.2526 - mean_squared_error: 0.2526\n",
      "Epoch 43/50\n",
      "4/4 - 0s - 16ms/step - binary_accuracy: 0.5000 - loss: 0.2526 - mean_squared_error: 0.2526\n",
      "Epoch 44/50\n",
      "4/4 - 0s - 15ms/step - binary_accuracy: 0.5000 - loss: 0.2525 - mean_squared_error: 0.2525\n",
      "Epoch 45/50\n",
      "4/4 - 0s - 16ms/step - binary_accuracy: 0.5000 - loss: 0.2525 - mean_squared_error: 0.2525\n",
      "Epoch 46/50\n",
      "4/4 - 0s - 15ms/step - binary_accuracy: 0.5000 - loss: 0.2524 - mean_squared_error: 0.2524\n",
      "Epoch 47/50\n",
      "4/4 - 0s - 15ms/step - binary_accuracy: 0.5000 - loss: 0.2524 - mean_squared_error: 0.2524\n",
      "Epoch 48/50\n",
      "4/4 - 0s - 16ms/step - binary_accuracy: 0.5000 - loss: 0.2523 - mean_squared_error: 0.2523\n",
      "Epoch 49/50\n",
      "4/4 - 0s - 15ms/step - binary_accuracy: 0.5000 - loss: 0.2523 - mean_squared_error: 0.2523\n",
      "Epoch 50/50\n",
      "4/4 - 0s - 16ms/step - binary_accuracy: 0.5000 - loss: 0.2523 - mean_squared_error: 0.2523\n"
     ]
    },
    {
     "data": {
      "text/plain": [
       "<keras.src.callbacks.history.History at 0x295a47e2fd0>"
      ]
     },
     "execution_count": 60,
     "metadata": {},
     "output_type": "execute_result"
    }
   ],
   "source": [
    "model = Sequential([\n",
    "    Dense(7, input_shape=(2,), activation='relu'),\n",
    "    Dense(5, activation='sigmoid'),\n",
    "    Dense(3, activation='sigmoid'),\n",
    "    Dense(1, activation='sigmoid')\n",
    "])\n",
    "\n",
    "model.compile(optimizer=SGD(),loss='mean_squared_error',metrics=['mean_squared_error','binary_accuracy'])\n",
    "\n",
    "input_xor_data = np.array(input_xor_data)\n",
    "output_xor_labels = np.array(output_xor_labels)\n",
    "\n",
    "model.fit(input_xor_data, output_xor_labels, batch_size=1,  epochs=50, verbose=2)\n",
    "\n"
   ]
  },
  {
   "cell_type": "code",
   "execution_count": 59,
   "metadata": {},
   "outputs": [
    {
     "name": "stdout",
     "output_type": "stream",
     "text": [
      "1\n",
      "1\n",
      "1\n",
      "1\n"
     ]
    }
   ],
   "source": [
    "predictions = model.predict(input_xor_data, batch_size=1, verbose=0)\n",
    "for i in predictions:\n",
    "    print(round(i[0]))"
   ]
  }
 ],
 "metadata": {
  "kernelspec": {
   "display_name": "Python 3",
   "language": "python",
   "name": "python3"
  },
  "language_info": {
   "codemirror_mode": {
    "name": "ipython",
    "version": 3
   },
   "file_extension": ".py",
   "mimetype": "text/x-python",
   "name": "python",
   "nbconvert_exporter": "python",
   "pygments_lexer": "ipython3",
   "version": "3.11.8"
  }
 },
 "nbformat": 4,
 "nbformat_minor": 2
}
