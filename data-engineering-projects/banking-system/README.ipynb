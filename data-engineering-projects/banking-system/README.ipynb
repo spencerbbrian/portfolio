{
 "cells": [
  {
   "cell_type": "markdown",
   "metadata": {},
   "source": [
    "### BANK TRANSACTION DATA PIPELINE & FRAUD DETECTION WITH MongoDB "
   ]
  },
  {
   "cell_type": "markdown",
   "metadata": {},
   "source": [
    "1. Design the MongoDB Schema\n",
    "    a. Define the collection and their respective fields.\n",
    "        - Accounts and credit limits as well as credit balance etc.\n",
    "        - Banks & Countries and minimum balance for customers and the charges for certain transfers.\n",
    "        - The exchange rates.\n",
    "        - Merchants\n",
    "        - Transactions\n",
    "2. Populate the accounts, banks and merchants collection according to the validators. Implement minimum balances with different curre\n",
    "3. Simulate transaction data with logic below.\n",
    "    a.  For each transaction, check if the sender and receiver are valid accounts.\n",
    "    b.  If valid, update the sender and receiver balance accordingly and insert into collection.\n",
    "    c.  Specify the transaction type be it a deposit, atm withdrawal, purchase(online or in-store), cheques(withdrawal or deposit), charge, POS, payment or transfer.\n",
    "    d. The account should not be below the balance for balance account and not go over for credit accounts.\n",
    "    e. If not valid, log the error and skip the transaction.\n",
    "    f. Every transaction should be unique.\n",
    "    g. Implement the logic to calculate the exchange rate for each transaction based on the exchange rates collection.\n",
    "    h. Implement the logic to calculate the fees for each transaction based on the banks and countries collection.\n",
    "4. Data Transformation\n",
    "5. Data Loading into MongoDB\n",
    "6. Fraud detection logic/cases.\n",
    "7. Data Analytics\n",
    "8. Automation.\n"
   ]
  },
  {
   "cell_type": "code",
   "execution_count": 1,
   "metadata": {},
   "outputs": [],
   "source": [
    "from pymongo import MongoClient\n",
    "\n",
    "# Connect to MongoDB\n",
    "client = MongoClient(\"mongodb://localhost:27017/\")\n",
    "\n",
    "# Define the database\n",
    "db = client[\"banking-system\"]\n"
   ]
  },
  {
   "cell_type": "code",
   "execution_count": null,
   "metadata": {},
   "outputs": [
    {
     "name": "stdout",
     "output_type": "stream",
     "text": [
      "0.95\n"
     ]
    },
    {
     "ename": "",
     "evalue": "",
     "output_type": "error",
     "traceback": [
      "\u001b[1;31mThe Kernel crashed while executing code in the current cell or a previous cell. \n",
      "\u001b[1;31mPlease review the code in the cell(s) to identify a possible cause of the failure. \n",
      "\u001b[1;31mClick <a href='https://aka.ms/vscodeJupyterKernelCrash'>here</a> for more info. \n",
      "\u001b[1;31mView Jupyter <a href='command:jupyter.viewOutput'>log</a> for further details."
     ]
    }
   ],
   "source": [
    "import random\n",
    "\n",
    "# Fetch the accounts\n",
    "one = list(db.accounts.find({\"account_category\": \"Customer\"}))\n",
    "\n",
    "first = one[random.randint(0, len(one) - 1)]['currency']\n",
    "second = one[random.randint(0, len(one) - 1)]['currency']\n",
    "currency_pair = f\"{first}/{second}\"\n",
    "\n",
    "if first == second:\n",
    "    print(currency_pair)\n",
    "else:\n",
    "    six = db.exchange.find_one({\"currency_pair\": currency_pair})['exchange_rate']\n",
    "    print(six)\n"
   ]
  }
 ],
 "metadata": {
  "kernelspec": {
   "display_name": "Python 3",
   "language": "python",
   "name": "python3"
  },
  "language_info": {
   "codemirror_mode": {
    "name": "ipython",
    "version": 3
   },
   "file_extension": ".py",
   "mimetype": "text/x-python",
   "name": "python",
   "nbconvert_exporter": "python",
   "pygments_lexer": "ipython3",
   "version": "3.11.8"
  }
 },
 "nbformat": 4,
 "nbformat_minor": 2
}
