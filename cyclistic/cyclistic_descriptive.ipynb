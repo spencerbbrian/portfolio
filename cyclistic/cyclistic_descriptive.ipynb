{
 "cells": [
  {
   "cell_type": "code",
   "execution_count": 19,
   "metadata": {},
   "outputs": [],
   "source": [
    "#Import all libraries\n",
    "import pandas as pd\n",
    "import matplotlib.pyplot as plt\n",
    "import seaborn as sns\n",
    "import datetime as datetime\n",
    "from datetime import timedelta"
   ]
  },
  {
   "cell_type": "code",
   "execution_count": 3,
   "metadata": {},
   "outputs": [
    {
     "data": {
      "text/html": [
       "<div>\n",
       "<style scoped>\n",
       "    .dataframe tbody tr th:only-of-type {\n",
       "        vertical-align: middle;\n",
       "    }\n",
       "\n",
       "    .dataframe tbody tr th {\n",
       "        vertical-align: top;\n",
       "    }\n",
       "\n",
       "    .dataframe thead th {\n",
       "        text-align: right;\n",
       "    }\n",
       "</style>\n",
       "<table border=\"1\" class=\"dataframe\">\n",
       "  <thead>\n",
       "    <tr style=\"text-align: right;\">\n",
       "      <th></th>\n",
       "      <th>ride_id</th>\n",
       "      <th>rideable_type</th>\n",
       "      <th>started_at</th>\n",
       "      <th>ended_at</th>\n",
       "      <th>start_station_name</th>\n",
       "      <th>start_station_id</th>\n",
       "      <th>end_station_name</th>\n",
       "      <th>end_station_id</th>\n",
       "      <th>start_lat</th>\n",
       "      <th>start_lng</th>\n",
       "      <th>end_lat</th>\n",
       "      <th>end_lng</th>\n",
       "      <th>member_casual</th>\n",
       "      <th>ride_length_time</th>\n",
       "      <th>ride_length</th>\n",
       "      <th>day_of_the week</th>\n",
       "    </tr>\n",
       "  </thead>\n",
       "  <tbody>\n",
       "    <tr>\n",
       "      <th>0</th>\n",
       "      <td>B12AD6565494C368</td>\n",
       "      <td>classic_bike</td>\n",
       "      <td>09/06/2022 22:28</td>\n",
       "      <td>09/06/2022 22:52</td>\n",
       "      <td>California Ave &amp; Milwaukee Ave</td>\n",
       "      <td>13084</td>\n",
       "      <td>California Ave &amp; Milwaukee Ave</td>\n",
       "      <td>13084</td>\n",
       "      <td>41.922695</td>\n",
       "      <td>-87.697153</td>\n",
       "      <td>41.922695</td>\n",
       "      <td>-87.697153</td>\n",
       "      <td>casual</td>\n",
       "      <td>0:23:45</td>\n",
       "      <td>0:23:45</td>\n",
       "      <td>5</td>\n",
       "    </tr>\n",
       "    <tr>\n",
       "      <th>1</th>\n",
       "      <td>BAD4CB075003A605</td>\n",
       "      <td>electric_bike</td>\n",
       "      <td>19/06/2022 17:08</td>\n",
       "      <td>19/06/2022 17:08</td>\n",
       "      <td>California Ave &amp; Milwaukee Ave</td>\n",
       "      <td>13084</td>\n",
       "      <td>California Ave &amp; Milwaukee Ave</td>\n",
       "      <td>13084</td>\n",
       "      <td>41.922613</td>\n",
       "      <td>-87.697148</td>\n",
       "      <td>41.922695</td>\n",
       "      <td>-87.697153</td>\n",
       "      <td>casual</td>\n",
       "      <td>0:00:02</td>\n",
       "      <td>0:00:02</td>\n",
       "      <td>1</td>\n",
       "    </tr>\n",
       "    <tr>\n",
       "      <th>2</th>\n",
       "      <td>76DAD9FC95774B53</td>\n",
       "      <td>electric_bike</td>\n",
       "      <td>26/06/2022 23:59</td>\n",
       "      <td>27/06/2022 0:25</td>\n",
       "      <td>Burnham Greenway &amp; 105th St</td>\n",
       "      <td>20222</td>\n",
       "      <td>Burnham Greenway &amp; 105th St</td>\n",
       "      <td>20222</td>\n",
       "      <td>41.704628</td>\n",
       "      <td>-87.528414</td>\n",
       "      <td>41.704575</td>\n",
       "      <td>-87.528232</td>\n",
       "      <td>casual</td>\n",
       "      <td>0:25:42</td>\n",
       "      <td>0:25:42</td>\n",
       "      <td>1</td>\n",
       "    </tr>\n",
       "    <tr>\n",
       "      <th>3</th>\n",
       "      <td>47DE68ACCA138C13</td>\n",
       "      <td>electric_bike</td>\n",
       "      <td>27/06/2022 11:40</td>\n",
       "      <td>27/06/2022 11:50</td>\n",
       "      <td>Wood St &amp; Chicago Ave</td>\n",
       "      <td>637</td>\n",
       "      <td>California Ave &amp; Division St</td>\n",
       "      <td>13256</td>\n",
       "      <td>41.895611</td>\n",
       "      <td>-87.672098</td>\n",
       "      <td>41.903029</td>\n",
       "      <td>-87.697474</td>\n",
       "      <td>casual</td>\n",
       "      <td>0:09:23</td>\n",
       "      <td>0:09:23</td>\n",
       "      <td>2</td>\n",
       "    </tr>\n",
       "    <tr>\n",
       "      <th>4</th>\n",
       "      <td>5D899636D3334ED5</td>\n",
       "      <td>classic_bike</td>\n",
       "      <td>27/06/2022 16:01</td>\n",
       "      <td>27/06/2022 16:35</td>\n",
       "      <td>California Ave &amp; Division St</td>\n",
       "      <td>13256</td>\n",
       "      <td>California Ave &amp; Division St</td>\n",
       "      <td>13256</td>\n",
       "      <td>41.903029</td>\n",
       "      <td>-87.697474</td>\n",
       "      <td>41.903029</td>\n",
       "      <td>-87.697474</td>\n",
       "      <td>casual</td>\n",
       "      <td>0:34:43</td>\n",
       "      <td>0:34:43</td>\n",
       "      <td>2</td>\n",
       "    </tr>\n",
       "  </tbody>\n",
       "</table>\n",
       "</div>"
      ],
      "text/plain": [
       "            ride_id  rideable_type        started_at          ended_at  \\\n",
       "0  B12AD6565494C368   classic_bike  09/06/2022 22:28  09/06/2022 22:52   \n",
       "1  BAD4CB075003A605  electric_bike  19/06/2022 17:08  19/06/2022 17:08   \n",
       "2  76DAD9FC95774B53  electric_bike  26/06/2022 23:59   27/06/2022 0:25   \n",
       "3  47DE68ACCA138C13  electric_bike  27/06/2022 11:40  27/06/2022 11:50   \n",
       "4  5D899636D3334ED5   classic_bike  27/06/2022 16:01  27/06/2022 16:35   \n",
       "\n",
       "               start_station_name start_station_id  \\\n",
       "0  California Ave & Milwaukee Ave            13084   \n",
       "1  California Ave & Milwaukee Ave            13084   \n",
       "2     Burnham Greenway & 105th St            20222   \n",
       "3           Wood St & Chicago Ave              637   \n",
       "4    California Ave & Division St            13256   \n",
       "\n",
       "                 end_station_name end_station_id  start_lat  start_lng  \\\n",
       "0  California Ave & Milwaukee Ave          13084  41.922695 -87.697153   \n",
       "1  California Ave & Milwaukee Ave          13084  41.922613 -87.697148   \n",
       "2     Burnham Greenway & 105th St          20222  41.704628 -87.528414   \n",
       "3    California Ave & Division St          13256  41.895611 -87.672098   \n",
       "4    California Ave & Division St          13256  41.903029 -87.697474   \n",
       "\n",
       "     end_lat    end_lng member_casual ride_length_time ride_length  \\\n",
       "0  41.922695 -87.697153        casual          0:23:45     0:23:45   \n",
       "1  41.922695 -87.697153        casual          0:00:02     0:00:02   \n",
       "2  41.704575 -87.528232        casual          0:25:42     0:25:42   \n",
       "3  41.903029 -87.697474        casual          0:09:23     0:09:23   \n",
       "4  41.903029 -87.697474        casual          0:34:43     0:34:43   \n",
       "\n",
       "   day_of_the week  \n",
       "0                5  \n",
       "1                1  \n",
       "2                1  \n",
       "3                2  \n",
       "4                2  "
      ]
     },
     "execution_count": 3,
     "metadata": {},
     "output_type": "execute_result"
    }
   ],
   "source": [
    "#Load the dataset\n",
    "cylicist_clean = pd.read_csv('cylicist_clean.csv')\n",
    "cylicist_clean.head()"
   ]
  },
  {
   "cell_type": "code",
   "execution_count": 4,
   "metadata": {},
   "outputs": [],
   "source": [
    "cylicist_clean['day_of_the week'] = cylicist_clean['day_of_the week'].replace([1,2,3,4,5,6,7],['Sunday','Monday','Tuesday','Wednesday','Thursday','Friday','Saturday'])"
   ]
  },
  {
   "cell_type": "code",
   "execution_count": 5,
   "metadata": {},
   "outputs": [],
   "source": [
    "cylicist_clean['started_at'] = pd.to_datetime(cylicist_clean['started_at'], dayfirst = True)\n",
    "cylicist_clean['ended_at'] = pd.to_datetime(cylicist_clean['ended_at'], dayfirst = True)\n",
    "cylicist_clean['ride_length'] = cylicist_clean['ended_at'] - cylicist_clean['started_at'] \n",
    "cylicist_clean['ride_time'] = cylicist_clean['ended_at'] - cylicist_clean['started_at']\n",
    "cylicist_clean['ride_length'] = (cylicist_clean['ride_length'])/timedelta(minutes=1)"
   ]
  },
  {
   "cell_type": "code",
   "execution_count": 6,
   "metadata": {},
   "outputs": [],
   "source": [
    "cylicist_clean['ride_length'] = cylicist_clean['ride_length'].abs()"
   ]
  },
  {
   "cell_type": "code",
   "execution_count": 7,
   "metadata": {},
   "outputs": [
    {
     "name": "stdout",
     "output_type": "stream",
     "text": [
      "Maximum ride time is  10807.0\n",
      "Minimum ride time is  0.0\n",
      "Mean ride time is  18.92777665153686\n"
     ]
    }
   ],
   "source": [
    "#Max ride time\n",
    "print('Maximum ride time is ',cylicist_clean['ride_length'].max())\n",
    "\n",
    "#Minimum ride time\n",
    "print('Minimum ride time is ',cylicist_clean['ride_length'].min())\n",
    "\n",
    "#Mean ride time\n",
    "print('Mean ride time is ',cylicist_clean['ride_length'].mean())\n"
   ]
  },
  {
   "cell_type": "code",
   "execution_count": 8,
   "metadata": {},
   "outputs": [
    {
     "data": {
      "text/plain": [
       "day_of_the week\n",
       "Friday       126840\n",
       "Monday        97611\n",
       "Saturday     141410\n",
       "Sunday       134507\n",
       "Thursday     138104\n",
       "Tuesday      107319\n",
       "Wednesday    127320\n",
       "Name: ride_id, dtype: int64"
      ]
     },
     "execution_count": 8,
     "metadata": {},
     "output_type": "execute_result"
    }
   ],
   "source": [
    "trial = cylicist_clean.groupby('day_of_the week')['ride_id'].count()\n",
    "trial"
   ]
  },
  {
   "cell_type": "code",
   "execution_count": 21,
   "metadata": {},
   "outputs": [
    {
     "data": {
      "image/png": "[encoded data removed]",
      "text/plain": [
       "<Figure size 576x432 with 1 Axes>"
      ]
     },
     "metadata": {},
     "output_type": "display_data"
    }
   ],
   "source": [
    "sns.set_style('whitegrid')\n",
    "plt.figure(figsize=(8,6))\n",
    "sns.countplot(x='day_of_the week',hue='member_casual',data=cylicist_clean)\n",
    "plt.tight_layout()"
   ]
  },
  {
   "cell_type": "code",
   "execution_count": 10,
   "metadata": {},
   "outputs": [
    {
     "data": {
      "text/plain": [
       "member_casual  day_of_the week\n",
       "casual         Friday             24.071211\n",
       "               Monday             25.670639\n",
       "               Saturday           27.069206\n",
       "               Sunday             28.601877\n",
       "               Thursday           22.863945\n",
       "               Tuesday            23.052245\n",
       "               Wednesday          21.855586\n",
       "member         Friday             13.285735\n",
       "               Monday             13.024325\n",
       "               Saturday           15.007121\n",
       "               Sunday             15.334010\n",
       "               Thursday           13.198785\n",
       "               Tuesday            13.069535\n",
       "               Wednesday          12.799253\n",
       "Name: ride_length, dtype: float64"
      ]
     },
     "execution_count": 10,
     "metadata": {},
     "output_type": "execute_result"
    }
   ],
   "source": [
    "#Average ride length\n",
    "average_ride = cylicist_clean.groupby(['member_casual','day_of_the week'])['ride_length'].mean()\n",
    "average_ride"
   ]
  },
  {
   "cell_type": "code",
   "execution_count": 11,
   "metadata": {},
   "outputs": [
    {
     "data": {
      "text/plain": [
       "member_casual\n",
       "casual    25.111003\n",
       "member    13.618905\n",
       "Name: ride_length, dtype: float64"
      ]
     },
     "execution_count": 11,
     "metadata": {},
     "output_type": "execute_result"
    }
   ],
   "source": [
    "average_ride_pivot = cylicist_clean.groupby('member_casual')['ride_length'].mean()\n",
    "average_ride_pivot"
   ]
  }
 ],
 "metadata": {
  "kernelspec": {
   "display_name": "Python 3",
   "language": "python",
   "name": "python3"
  },
  "language_info": {
   "codemirror_mode": {
    "name": "ipython",
    "version": 3
   },
   "file_extension": ".py",
   "mimetype": "text/x-python",
   "name": "python",
   "nbconvert_exporter": "python",
   "pygments_lexer": "ipython3",
   "version": "3.9.7"
  },
  "orig_nbformat": 4
 },
 "nbformat": 4,
 "nbformat_minor": 2
}
