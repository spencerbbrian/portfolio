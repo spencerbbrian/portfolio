{
 "cells": [
  {
   "cell_type": "code",
   "execution_count": 7,
   "metadata": {},
   "outputs": [],
   "source": [
    "from stocks.models import Stock\n",
    "from stocks import app, db\n",
    "import random, math"
   ]
  },
  {
   "cell_type": "code",
   "execution_count": 8,
   "metadata": {},
   "outputs": [
    {
     "name": "stdout",
     "output_type": "stream",
     "text": [
      "25\n"
     ]
    }
   ],
   "source": [
    "with app.app_context():\n",
    "    latest_market_week = db.session.query(db.func.max(Stock.week)).scalar()\n",
    "    print(latest_market_week)"
   ]
  },
  {
   "cell_type": "code",
   "execution_count": 12,
   "metadata": {},
   "outputs": [],
   "source": [
    "with app.app_context():\n",
    "    latest_week = db.session.query(db.func.max(Stock.week)).scalar()\n",
    "    next_week = latest_week + 1\n",
    "\n",
    "    for stock_data in Stock.query.filter_by(week=latest_week):\n",
    "        volume_change = random.uniform(-0.2,0.2)\n",
    "        new_volume = stock_data.volume * (1 + volume_change)\n",
    "        if new_volume > 10000:\n",
    "            new_price = stock_data.price * random.uniform(1.01,1.05)\n",
    "        elif new_volume < 1000:\n",
    "            new_price = stock_data.price * random.uniform(0.95,0.99)\n",
    "        else:\n",
    "            new_price = stock_data.price * random.uniform(0.99,1.01)\n",
    "\n",
    "        new_volume = math.floor(new_volume * 100)/100\n",
    "        new_price = math.floor(new_price * 100) / 100\n",
    "        # Add a new_stock object\n",
    "        new_stock = Stock(stock=stock_data.stock,price=new_price,volume=new_volume, week=next_week)\n",
    "        db.session.add(new_stock)\n",
    "\n",
    "    db.session.commit()"
   ]
  },
  {
   "cell_type": "code",
   "execution_count": 10,
   "metadata": {},
   "outputs": [
    {
     "name": "stdout",
     "output_type": "stream",
     "text": [
      "26\n"
     ]
    }
   ],
   "source": [
    "with app.app_context():\n",
    "    latest_market_week = db.session.query(db.func.max(Stock.week)).scalar()\n",
    "    print(latest_market_week)"
   ]
  }
 ],
 "metadata": {
  "kernelspec": {
   "display_name": "Python 3",
   "language": "python",
   "name": "python3"
  },
  "language_info": {
   "codemirror_mode": {
    "name": "ipython",
    "version": 3
   },
   "file_extension": ".py",
   "mimetype": "text/x-python",
   "name": "python",
   "nbconvert_exporter": "python",
   "pygments_lexer": "ipython3",
   "version": "3.12.2"
  }
 },
 "nbformat": 4,
 "nbformat_minor": 2
}
