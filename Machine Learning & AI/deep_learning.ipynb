{
 "cells": [
  {
   "cell_type": "markdown",
   "metadata": {},
   "source": [
    "### Keras Sequential Model"
   ]
  },
  {
   "cell_type": "code",
   "execution_count": 1,
   "metadata": {},
   "outputs": [
    {
     "name": "stderr",
     "output_type": "stream",
     "text": [
      "c:\\Users\\brian\\AppData\\Local\\Programs\\Python\\Python311\\Lib\\site-packages\\keras\\src\\layers\\core\\dense.py:87: UserWarning: Do not pass an `input_shape`/`input_dim` argument to a layer. When using Sequential models, prefer using an `Input(shape)` object as the first layer in the model instead.\n",
      "  super().__init__(activity_regularizer=activity_regularizer, **kwargs)\n"
     ]
    }
   ],
   "source": [
    "from keras.models import Sequential\n",
    "from keras.layers import Dense, Activation\n",
    "\n",
    "model = Sequential([\n",
    "    Dense(5,input_shape = (3,), activation='relu'), # Hidden layer 1 with 5 neurons and input shape of 3\n",
    "    Dense(2, activation = 'softmax') # Output layer with 2 neurons\n",
    "])"
   ]
  },
  {
   "cell_type": "markdown",
   "metadata": {},
   "source": [
    "### Activation Function"
   ]
  },
  {
   "cell_type": "code",
   "execution_count": 2,
   "metadata": {},
   "outputs": [],
   "source": [
    "from keras.models import Sequential\n",
    "from keras.layers import Dense, Activation\n",
    "\n",
    "# Define the model\n",
    "model = Sequential([\n",
    "    Dense(5,input_shape = (3,), activation='relu'),\n",
    "])"
   ]
  },
  {
   "cell_type": "code",
   "execution_count": 3,
   "metadata": {},
   "outputs": [],
   "source": [
    "# Or equivalently\n",
    "model = Sequential()\n",
    "model.add(Dense(5, input_shape=(3,)))\n",
    "model.add(Activation('relu'))"
   ]
  },
  {
   "cell_type": "markdown",
   "metadata": {},
   "source": [
    "### Training"
   ]
  },
  {
   "cell_type": "code",
   "execution_count": 4,
   "metadata": {},
   "outputs": [],
   "source": [
    "import keras\n",
    "from keras import backend as KerasTensor\n",
    "from keras.models import Sequential\n",
    "from keras.layers import Dense, Activation\n",
    "from keras.optimizers import Adam\n",
    "from keras.metrics import categorical_crossentropy"
   ]
  },
  {
   "cell_type": "code",
   "execution_count": 5,
   "metadata": {},
   "outputs": [],
   "source": [
    "model = Sequential([\n",
    "    Dense(16, input_shape=(3,), activation='relu'), #Actication function is to create some non-linearity\n",
    "    Dense(32, activation='relu'),\n",
    "    Dense(2, activation='softmax')\n",
    "])"
   ]
  },
  {
   "cell_type": "code",
   "execution_count": 6,
   "metadata": {},
   "outputs": [],
   "source": [
    "model.compile(Adam(learning_rate=0.0001), loss='sparse_categorical_crossentropy', metrics=['accuracy'])"
   ]
  },
  {
   "cell_type": "code",
   "execution_count": 10,
   "metadata": {},
   "outputs": [
    {
     "data": {
      "text/plain": [
       "'sparse_categorical_crossentropy'"
      ]
     },
     "execution_count": 10,
     "metadata": {},
     "output_type": "execute_result"
    }
   ],
   "source": [
    "model.loss"
   ]
  },
  {
   "cell_type": "code",
   "execution_count": 9,
   "metadata": {},
   "outputs": [
    {
     "name": "stdout",
     "output_type": "stream",
     "text": [
      "Epoch 1/20\n",
      "10/10 - 0s - 4ms/step - accuracy: 0.5300 - loss: 0.7105\n",
      "Epoch 2/20\n",
      "10/10 - 0s - 5ms/step - accuracy: 0.5200 - loss: 0.7100\n",
      "Epoch 3/20\n",
      "10/10 - 0s - 4ms/step - accuracy: 0.5300 - loss: 0.7093\n",
      "Epoch 4/20\n",
      "10/10 - 0s - 4ms/step - accuracy: 0.5300 - loss: 0.7087\n",
      "Epoch 5/20\n",
      "10/10 - 0s - 4ms/step - accuracy: 0.5200 - loss: 0.7081\n",
      "Epoch 6/20\n",
      "10/10 - 0s - 4ms/step - accuracy: 0.5200 - loss: 0.7076\n",
      "Epoch 7/20\n",
      "10/10 - 0s - 4ms/step - accuracy: 0.5300 - loss: 0.7071\n",
      "Epoch 8/20\n",
      "10/10 - 0s - 4ms/step - accuracy: 0.5200 - loss: 0.7061\n",
      "Epoch 9/20\n",
      "10/10 - 0s - 4ms/step - accuracy: 0.5300 - loss: 0.7053\n",
      "Epoch 10/20\n",
      "10/10 - 0s - 4ms/step - accuracy: 0.5200 - loss: 0.7049\n",
      "Epoch 11/20\n",
      "10/10 - 0s - 4ms/step - accuracy: 0.5200 - loss: 0.7041\n",
      "Epoch 12/20\n",
      "10/10 - 0s - 4ms/step - accuracy: 0.5200 - loss: 0.7036\n",
      "Epoch 13/20\n",
      "10/10 - 0s - 4ms/step - accuracy: 0.5200 - loss: 0.7028\n",
      "Epoch 14/20\n",
      "10/10 - 0s - 4ms/step - accuracy: 0.5200 - loss: 0.7023\n",
      "Epoch 15/20\n",
      "10/10 - 0s - 4ms/step - accuracy: 0.5200 - loss: 0.7014\n",
      "Epoch 16/20\n",
      "10/10 - 0s - 4ms/step - accuracy: 0.5200 - loss: 0.7012\n",
      "Epoch 17/20\n",
      "10/10 - 0s - 4ms/step - accuracy: 0.5200 - loss: 0.7004\n",
      "Epoch 18/20\n",
      "10/10 - 0s - 4ms/step - accuracy: 0.5200 - loss: 0.6997\n",
      "Epoch 19/20\n",
      "10/10 - 0s - 4ms/step - accuracy: 0.5200 - loss: 0.6992\n",
      "Epoch 20/20\n",
      "10/10 - 0s - 4ms/step - accuracy: 0.5200 - loss: 0.6987\n"
     ]
    },
    {
     "data": {
      "text/plain": [
       "<keras.src.callbacks.history.History at 0x196ce58b350>"
      ]
     },
     "execution_count": 9,
     "metadata": {},
     "output_type": "execute_result"
    }
   ],
   "source": [
    "from sklearn.preprocessing import MinMaxScaler\n",
    "import numpy as np\n",
    "\n",
    "# Assuming train_samples is already defined\n",
    "train_samples = np.random.rand(100, 3)  # Example data\n",
    "train_labels = np.random.randint(2, size=(100, 1))  # Example labels\n",
    "\n",
    "scaler = MinMaxScaler(feature_range=(0, 1))\n",
    "scaled_train_samples = scaler.fit_transform(train_samples)\n",
    "\n",
    "model.fit(scaled_train_samples, train_labels, batch_size=10, epochs=20, shuffle=True, verbose=2)"
   ]
  },
  {
   "cell_type": "markdown",
   "metadata": {},
   "source": [
    "### Learning Rate"
   ]
  },
  {
   "cell_type": "code",
   "execution_count": 11,
   "metadata": {},
   "outputs": [],
   "source": [
    "model.compile(Adam(learning_rate=0.0001), loss='sparse_categorical_crossentropy', metrics=['accuracy'])"
   ]
  },
  {
   "cell_type": "code",
   "execution_count": 12,
   "metadata": {},
   "outputs": [],
   "source": [
    "model.optimizer.lr = 0.01"
   ]
  },
  {
   "cell_type": "code",
   "execution_count": 13,
   "metadata": {},
   "outputs": [
    {
     "data": {
      "text/plain": [
       "0.01"
      ]
     },
     "execution_count": 13,
     "metadata": {},
     "output_type": "execute_result"
    }
   ],
   "source": [
    "model.optimizer.lr"
   ]
  },
  {
   "cell_type": "markdown",
   "metadata": {},
   "source": [
    "### Train, Test & Validations Sets"
   ]
  },
  {
   "cell_type": "code",
   "execution_count": 20,
   "metadata": {},
   "outputs": [
    {
     "name": "stdout",
     "output_type": "stream",
     "text": [
      "Epoch 1/20\n",
      "8/8 - 1s - 117ms/step - accuracy: 0.5250 - loss: 0.7055 - val_accuracy: 0.5000 - val_loss: 0.6746\n",
      "Epoch 2/20\n",
      "8/8 - 0s - 8ms/step - accuracy: 0.5000 - loss: 0.7036 - val_accuracy: 0.5000 - val_loss: 0.6748\n",
      "Epoch 3/20\n",
      "8/8 - 0s - 8ms/step - accuracy: 0.5375 - loss: 0.7032 - val_accuracy: 0.5000 - val_loss: 0.6748\n",
      "Epoch 4/20\n",
      "8/8 - 0s - 8ms/step - accuracy: 0.5250 - loss: 0.7025 - val_accuracy: 0.5000 - val_loss: 0.6753\n",
      "Epoch 5/20\n",
      "8/8 - 0s - 9ms/step - accuracy: 0.5250 - loss: 0.7019 - val_accuracy: 0.5000 - val_loss: 0.6752\n",
      "Epoch 6/20\n",
      "8/8 - 0s - 8ms/step - accuracy: 0.5250 - loss: 0.7017 - val_accuracy: 0.5000 - val_loss: 0.6758\n",
      "Epoch 7/20\n",
      "8/8 - 0s - 9ms/step - accuracy: 0.5375 - loss: 0.7009 - val_accuracy: 0.5000 - val_loss: 0.6757\n",
      "Epoch 8/20\n",
      "8/8 - 0s - 9ms/step - accuracy: 0.5250 - loss: 0.7004 - val_accuracy: 0.5000 - val_loss: 0.6760\n",
      "Epoch 9/20\n",
      "8/8 - 0s - 8ms/step - accuracy: 0.5250 - loss: 0.6999 - val_accuracy: 0.5000 - val_loss: 0.6762\n",
      "Epoch 10/20\n",
      "8/8 - 0s - 9ms/step - accuracy: 0.5250 - loss: 0.6993 - val_accuracy: 0.5000 - val_loss: 0.6763\n",
      "Epoch 11/20\n",
      "8/8 - 0s - 8ms/step - accuracy: 0.5250 - loss: 0.6988 - val_accuracy: 0.5000 - val_loss: 0.6763\n",
      "Epoch 12/20\n",
      "8/8 - 0s - 9ms/step - accuracy: 0.5250 - loss: 0.6983 - val_accuracy: 0.4500 - val_loss: 0.6765\n",
      "Epoch 13/20\n",
      "8/8 - 0s - 9ms/step - accuracy: 0.5250 - loss: 0.6978 - val_accuracy: 0.4500 - val_loss: 0.6769\n",
      "Epoch 14/20\n",
      "8/8 - 0s - 9ms/step - accuracy: 0.5250 - loss: 0.6976 - val_accuracy: 0.4500 - val_loss: 0.6773\n",
      "Epoch 15/20\n",
      "8/8 - 0s - 9ms/step - accuracy: 0.5375 - loss: 0.6971 - val_accuracy: 0.4500 - val_loss: 0.6772\n",
      "Epoch 16/20\n",
      "8/8 - 0s - 8ms/step - accuracy: 0.5375 - loss: 0.6964 - val_accuracy: 0.4500 - val_loss: 0.6775\n",
      "Epoch 17/20\n",
      "8/8 - 0s - 8ms/step - accuracy: 0.5375 - loss: 0.6959 - val_accuracy: 0.4500 - val_loss: 0.6777\n",
      "Epoch 18/20\n",
      "8/8 - 0s - 8ms/step - accuracy: 0.5375 - loss: 0.6954 - val_accuracy: 0.4500 - val_loss: 0.6776\n",
      "Epoch 19/20\n",
      "8/8 - 0s - 8ms/step - accuracy: 0.5375 - loss: 0.6950 - val_accuracy: 0.4500 - val_loss: 0.6779\n",
      "Epoch 20/20\n",
      "8/8 - 0s - 8ms/step - accuracy: 0.5375 - loss: 0.6946 - val_accuracy: 0.4500 - val_loss: 0.6779\n"
     ]
    },
    {
     "data": {
      "text/plain": [
       "<keras.src.callbacks.history.History at 0x196cc6f9dd0>"
      ]
     },
     "execution_count": 20,
     "metadata": {},
     "output_type": "execute_result"
    }
   ],
   "source": [
    "model.fit(scaled_train_samples, train_labels, validation_split=0.20, batch_size=10, epochs=20, shuffle=True, verbose=2)"
   ]
  },
  {
   "cell_type": "markdown",
   "metadata": {},
   "source": [
    "### Prediction"
   ]
  },
  {
   "cell_type": "code",
   "execution_count": 21,
   "metadata": {},
   "outputs": [],
   "source": [
    "predictions = model.predict(scaled_train_samples, batch_size=10, verbose=0) "
   ]
  },
  {
   "cell_type": "code",
   "execution_count": null,
   "metadata": {},
   "outputs": [],
   "source": [
    "for i in predictions:\n",
    "    print(i) #The output is the probability of each class"
   ]
  },
  {
   "cell_type": "markdown",
   "metadata": {},
   "source": [
    "### Supervised Learning\n",
    "For supervised lizard, we give the input as well as the label. The labels are to be encoded with 0,1,2 etc."
   ]
  },
  {
   "cell_type": "code",
   "execution_count": 3,
   "metadata": {},
   "outputs": [
    {
     "name": "stdout",
     "output_type": "stream",
     "text": [
      "Epoch 1/10\n"
     ]
    },
    {
     "name": "stderr",
     "output_type": "stream",
     "text": [
      "c:\\Users\\brian\\AppData\\Local\\Programs\\Python\\Python311\\Lib\\site-packages\\keras\\src\\layers\\core\\dense.py:87: UserWarning: Do not pass an `input_shape`/`input_dim` argument to a layer. When using Sequential models, prefer using an `Input(shape)` object as the first layer in the model instead.\n",
      "  super().__init__(activity_regularizer=activity_regularizer, **kwargs)\n"
     ]
    },
    {
     "name": "stdout",
     "output_type": "stream",
     "text": [
      "2/2 - 2s - 952ms/step - accuracy: 0.5000 - loss: 18.8076\n",
      "Epoch 2/10\n",
      "2/2 - 0s - 25ms/step - accuracy: 0.5000 - loss: 18.4977\n",
      "Epoch 3/10\n",
      "2/2 - 0s - 25ms/step - accuracy: 0.5000 - loss: 18.2224\n",
      "Epoch 4/10\n",
      "2/2 - 0s - 25ms/step - accuracy: 0.5000 - loss: 18.0022\n",
      "Epoch 5/10\n",
      "2/2 - 0s - 25ms/step - accuracy: 0.5000 - loss: 17.6919\n",
      "Epoch 6/10\n",
      "2/2 - 0s - 24ms/step - accuracy: 0.5000 - loss: 17.4657\n",
      "Epoch 7/10\n",
      "2/2 - 0s - 24ms/step - accuracy: 0.5000 - loss: 17.1923\n",
      "Epoch 8/10\n",
      "2/2 - 0s - 22ms/step - accuracy: 0.5000 - loss: 16.8790\n",
      "Epoch 9/10\n",
      "2/2 - 0s - 23ms/step - accuracy: 0.5000 - loss: 16.6208\n",
      "Epoch 10/10\n",
      "2/2 - 0s - 22ms/step - accuracy: 0.5000 - loss: 16.3491\n"
     ]
    },
    {
     "data": {
      "text/plain": [
       "<keras.src.callbacks.history.History at 0x1daea8ebd50>"
      ]
     },
     "execution_count": 3,
     "metadata": {},
     "output_type": "execute_result"
    }
   ],
   "source": [
    "import keras\n",
    "import numpy as np\n",
    "from keras import backend as K \n",
    "from keras.models import Sequential\n",
    "from keras.layers import Dense, Activation\n",
    "from keras.optimizers import Adam\n",
    "\n",
    "model = Sequential([\n",
    "    Dense(16, input_shape=(2,), activation='relu'),\n",
    "    Dense(32, activation='relu'),\n",
    "    Dense(2, activation='softmax')\n",
    "])\n",
    "\n",
    "model.compile(Adam(learning_rate=0.0001), loss='sparse_categorical_crossentropy', metrics=['accuracy'])\n",
    "\n",
    "#weight, height\n",
    "train_samples = np.array([[150, 67], [130, 60], [200, 65], [125, 52], [230, 72], [181, 70]])\n",
    "\n",
    "#0: male 1: female\n",
    "train_labels = np.array([1, 1, 0, 1, 0, 0])\n",
    "\n",
    "model.fit(train_samples, train_labels, batch_size=3, epochs=10, shuffle=True, verbose=2)"
   ]
  },
  {
   "cell_type": "markdown",
   "metadata": {},
   "source": [
    "### Unsupervised Learning\n",
    "This uses autoencoders to label data and build off that until a stack is created of all data points.\n",
    "\n",
    "### Semi-supervised Learning\n",
    "Basically labeling a part of the entire dataset and the rest with pseudo labelling.\n",
    "\n",
    "### Data Augmentation - Check out on deep lizard"
   ]
  },
  {
   "cell_type": "markdown",
   "metadata": {},
   "source": [
    "### One-hot encoding"
   ]
  },
  {
   "cell_type": "code",
   "execution_count": null,
   "metadata": {},
   "outputs": [],
   "source": [
    "#If you had 3 labels of cat, dog and rabbit, you would have to use one-hot encoding\n",
    "#cat: 1 0 0\n",
    "#dog: 0 1 0\n",
    "#rabbit: 0 0 1"
   ]
  }
 ],
 "metadata": {
  "kernelspec": {
   "display_name": "Python 3",
   "language": "python",
   "name": "python3"
  },
  "language_info": {
   "codemirror_mode": {
    "name": "ipython",
    "version": 3
   },
   "file_extension": ".py",
   "mimetype": "text/x-python",
   "name": "python",
   "nbconvert_exporter": "python",
   "pygments_lexer": "ipython3",
   "version": "3.11.8"
  }
 },
 "nbformat": 4,
 "nbformat_minor": 2
}
