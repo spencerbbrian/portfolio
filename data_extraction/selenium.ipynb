{
 "cells": [
  {
   "cell_type": "code",
   "execution_count": 52,
   "metadata": {},
   "outputs": [],
   "source": [
    "from selenium import webdriver\n",
    "from selenium.webdriver.common.by import By\n",
    "from selenium.webdriver.support.ui import Select\n",
    "import time"
   ]
  },
  {
   "cell_type": "code",
   "execution_count": 37,
   "metadata": {},
   "outputs": [],
   "source": [
    "website = \"https://www.adamchoi.co.uk/overs/detailed\"\n",
    "#Path where your chromer driver isntall is\n",
    "service = webdriver.ChromeService(executable_path = './chromedriver-win64/chromedriver.exe')\n",
    "driver = webdriver.Chrome(service=service)\n",
    "driver.get(website)"
   ]
  },
  {
   "cell_type": "code",
   "execution_count": 14,
   "metadata": {},
   "outputs": [],
   "source": [
    "#Always close this window after\n",
    "driver.quit()"
   ]
  },
  {
   "cell_type": "code",
   "execution_count": null,
   "metadata": {},
   "outputs": [],
   "source": [
    "#XPATH SYNTAX - Ctrl + F in inspect mode\n",
    "# //tagName[@AttributrName=\"Value\"]\n"
   ]
  },
  {
   "cell_type": "code",
   "execution_count": 38,
   "metadata": {},
   "outputs": [],
   "source": [
    "#Find element with selenium\n",
    "all_matches_button = driver.find_element(\"xpath\",'//label[@analytics-event=\"All matches\"]')\n",
    "all_matches_button.click()"
   ]
  },
  {
   "cell_type": "code",
   "execution_count": 55,
   "metadata": {},
   "outputs": [],
   "source": [
    "#Extract from table\n",
    "matches = driver.find_elements(By.TAG_NAME,'tr')\n",
    "\n",
    "date = []\n",
    "home_team = []\n",
    "scores = []\n",
    "away_team = []\n",
    "\n",
    "for match in matches:\n",
    "    date.append(match.find_element(\"xpath\",'./td[1]').text)\n",
    "    home_team.append(match.find_element(\"xpath\",'./td[2]').text)\n",
    "    scores.append(match.find_element(\"xpath\",'./td[3]').text)\n",
    "    away_team.append(match.find_element(\"xpath\",'./td[4]').text)"
   ]
  },
  {
   "cell_type": "code",
   "execution_count": 54,
   "metadata": {},
   "outputs": [],
   "source": [
    "#Extract from a dropdown\n",
    "dropdown = Select(driver.find_element(By.ID,'country'))\n",
    "dropdown.select_by_visible_text('Spain')\n",
    "time.sleep(3)"
   ]
  },
  {
   "cell_type": "code",
   "execution_count": null,
   "metadata": {},
   "outputs": [],
   "source": [
    "#Send to a csv file"
   ]
  }
 ],
 "metadata": {
  "kernelspec": {
   "display_name": "Python 3",
   "language": "python",
   "name": "python3"
  },
  "language_info": {
   "codemirror_mode": {
    "name": "ipython",
    "version": 3
   },
   "file_extension": ".py",
   "mimetype": "text/x-python",
   "name": "python",
   "nbconvert_exporter": "python",
   "pygments_lexer": "ipython3",
   "version": "3.9.7"
  }
 },
 "nbformat": 4,
 "nbformat_minor": 2
}
