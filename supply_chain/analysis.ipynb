{
 "cells": [
  {
   "cell_type": "code",
   "execution_count": 2,
   "metadata": {},
   "outputs": [],
   "source": [
    "import os\n",
    "import psycopg2\n",
    "import sqlalchemy\n",
    "import pandas as pd\n",
    "from sqlalchemy import create_engine\n",
    "from sqlalchemy.engine import URL"
   ]
  },
  {
   "cell_type": "code",
   "execution_count": 3,
   "metadata": {},
   "outputs": [],
   "source": [
    "password = os.getenv('password')\n",
    "\n",
    "host = 'localhost'\n",
    "database = 'postgres'\n",
    "user = 'postgres'\n",
    "port = '5432'\n",
    "\n",
    "conn = psycopg2.connect(host=host,database=database,user=user,password=password,\n",
    "                        port=port)\n",
    "# Set isolation level to autocommit\n",
    "conn.set_isolation_level(psycopg2.extensions.ISOLATION_LEVEL_AUTOCOMMIT)\n",
    "cursor = conn.cursor()\n"
   ]
  },
  {
   "cell_type": "code",
   "execution_count": 11,
   "metadata": {},
   "outputs": [],
   "source": [
    "%reload_ext sql"
   ]
  },
  {
   "cell_type": "code",
   "execution_count": 4,
   "metadata": {},
   "outputs": [],
   "source": [
    "# cursor.execute(\"CREATE DATABASE supply\")\n",
    "conn.commit()\n",
    "cursor.close()\n",
    "conn.close()"
   ]
  },
  {
   "cell_type": "code",
   "execution_count": 7,
   "metadata": {},
   "outputs": [],
   "source": [
    "connection_string  = URL.create(drivername='postgresql',username='postgres',\n",
    "                                password=password,host='localhost',\n",
    "                                database='supply')"
   ]
  },
  {
   "cell_type": "code",
   "execution_count": null,
   "metadata": {},
   "outputs": [],
   "source": [
    "%sql $connection_string"
   ]
  },
  {
   "cell_type": "code",
   "execution_count": 5,
   "metadata": {},
   "outputs": [],
   "source": [
    "user = 'postgres'\n",
    "password = os.getenv('password')\n",
    "host = 'localhost'\n",
    "port = '5432'\n",
    "database = 'supply'\n",
    "\n",
    "# Construct the connection string using an f-string\n",
    "engine = create_engine(f'postgresql://{user}:{password}@{host}:{port}/{database}')"
   ]
  },
  {
   "cell_type": "code",
   "execution_count": 7,
   "metadata": {},
   "outputs": [
    {
     "data": {
      "text/plain": [
       "519"
      ]
     },
     "execution_count": 7,
     "metadata": {},
     "output_type": "execute_result"
    }
   ],
   "source": [
    "orders = pd.read_csv('clean_orders.csv')\n",
    "orders.to_sql(name='orders', con=engine, if_exists='replace', index=False)\n",
    "categories = pd.read_csv('clean_categories.csv')\n",
    "categories.to_sql(name='categories', con=engine, if_exists='replace', index=False)\n",
    "departments = pd.read_csv('clean_departments.csv')\n",
    "departments.to_sql(name='departments', con=engine, if_exists='replace', index=False)\n",
    "customers = pd.read_csv('clean_customers.csv')\n",
    "customers.to_sql(name='customers', con=engine, if_exists='replace', index=False)\n",
    "shipment = pd.read_csv('clean_shipment.csv')\n",
    "shipment.to_sql(name='shipment', con=engine, if_exists='replace', index=False)"
   ]
  }
 ],
 "metadata": {
  "kernelspec": {
   "display_name": "Python 3",
   "language": "python",
   "name": "python3"
  },
  "language_info": {
   "codemirror_mode": {
    "name": "ipython",
    "version": 3
   },
   "file_extension": ".py",
   "mimetype": "text/x-python",
   "name": "python",
   "nbconvert_exporter": "python",
   "pygments_lexer": "ipython3",
   "version": "3.12.2"
  }
 },
 "nbformat": 4,
 "nbformat_minor": 2
}
