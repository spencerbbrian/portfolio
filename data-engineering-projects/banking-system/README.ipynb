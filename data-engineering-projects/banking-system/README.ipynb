{
 "cells": [
  {
   "cell_type": "markdown",
   "metadata": {},
   "source": [
    "### BANK TRANSACTION DATA PIPELINE & FRAUD DETECTION WITH MongoDB "
   ]
  },
  {
   "cell_type": "markdown",
   "metadata": {},
   "source": [
    "1. Design the MongoDB Schema\n",
    "    a. Define the collection and their respective fields.\n",
    "        - Accounts and credit limits as well as credit balance etc.\n",
    "        - Banks & Countries and minimum balance for customers and the charges for certain transfers.\n",
    "        - The exchange rates.\n",
    "        - Merchants\n",
    "        - Transactions\n",
    "2. Populate the accounts, banks and merchants collection according to the validators. Implement minimum balances with different curre\n",
    "3. Simulate transaction data with logic below.\n",
    "    a.  For each transaction, check if the sender and receiver are valid accounts.\n",
    "    b.  If valid, update the sender and receiver balance accordingly and insert into collection.\n",
    "    c.  Specify the transaction type be it a deposit, atm withdrawal, purchase(online or in-store), cheques(withdrawal or deposit), charge, POS, payment or transfer.\n",
    "    d. The account should not be below the balance for balance account and not go over for credit accounts.\n",
    "    e. If not valid, log the error and skip the transaction.\n",
    "    f. Every transaction should be unique.\n",
    "    g. Implement the logic to calculate the exchange rate for each transaction based on the exchange rates collection.\n",
    "    h. Implement the logic to calculate the fees for each transaction based on the banks and countries collection.\n",
    "4. Data Transformation\n",
    "5. Data Loading into MongoDB\n",
    "6. Fraud detection logic/cases.\n",
    "7. Data Analytics\n",
    "8. Automation.\n"
   ]
  },
  {
   "cell_type": "code",
   "execution_count": 1,
   "metadata": {},
   "outputs": [],
   "source": [
    "from pymongo import MongoClient\n",
    "\n",
    "# Connect to MongoDB\n",
    "client = MongoClient(\"mongodb://localhost:27017/\")\n",
    "\n",
    "# Define the database\n",
    "db = client[\"banking-system\"]\n"
   ]
  },
  {
   "cell_type": "code",
   "execution_count": 23,
   "metadata": {},
   "outputs": [
    {
     "name": "stdout",
     "output_type": "stream",
     "text": [
      "10040.08\n"
     ]
    }
   ],
   "source": [
    "import random\n",
    "primary_accounts = db.accounts.find({\"account_category\": \"Customer\"})\n",
    "primary_account = random.choice(list(primary_accounts))['current_balance']\n",
    "print(primary_account)"
   ]
  },
  {
   "cell_type": "code",
   "execution_count": 39,
   "metadata": {},
   "outputs": [
    {
     "name": "stdout",
     "output_type": "stream",
     "text": [
      "retail: curbside\n"
     ]
    }
   ],
   "source": [
    "POS_PAYMENTS = {\n",
    "    \"restaurant\": [\n",
    "        \"dine-in\",       # Dining at the restaurant\n",
    "        \"takeaway\",      # Taking food away from the restaurant\n",
    "        \"delivery\"       # Food delivery service\n",
    "    ],\n",
    "    \"retail\": [\n",
    "        \"in-store\",      # Shopping in a physical store\n",
    "        \"online\",        # Shopping online\n",
    "        \"curbside\"       # Curbside pickup\n",
    "    ],\n",
    "    \"service\": [\n",
    "        \"appointment\",   # Scheduled service appointments\n",
    "        \"walk-in\",       # Walk-in services\n",
    "        \"subscription\"   # Subscription-based services\n",
    "    ],\n",
    "    \"grocery\": [\n",
    "        \"in-store\",      # Shopping in a physical grocery store\n",
    "        \"online\",        # Online grocery shopping\n",
    "        \"delivery\"       # Grocery delivery service\n",
    "    ],\n",
    "    \"other\": [\n",
    "        \"miscellaneous\"  # Miscellaneous POS payments\n",
    "    ]\n",
    "}\n",
    "\n",
    "category = random.choice(list(POS_PAYMENTS.keys()))\n",
    "random_pos_item = random.choice(POS_PAYMENTS[category])\n",
    "print(f\"{category}: {random_pos_item}\")"
   ]
  },
  {
   "cell_type": "code",
   "execution_count": 25,
   "metadata": {},
   "outputs": [
    {
     "data": {
      "text/plain": [
       "InsertOneResult(ObjectId('6754c1d7f239f2444d6c052c'), acknowledged=True)"
      ]
     },
     "execution_count": 25,
     "metadata": {},
     "output_type": "execute_result"
    }
   ],
   "source": [
    "from datetime import datetime\n",
    "\n",
    "\n",
    "exchange_rates_doc = {\n",
    "    \"currency_pair\": \"USD/EUR\",\n",
    "    \"exchange_rate\": 0.85,\n",
    "    \"timestamp\": datetime(2024, 12, 6, 12, 0, 0)  # Convert to datetime\n",
    "}\n",
    "\n",
    "\n",
    "db.exchange.insert_one(exchange_rates_doc)\n",
    "\n",
    "\n"
   ]
  },
  {
   "cell_type": "code",
   "execution_count": null,
   "metadata": {},
   "outputs": [],
   "source": []
  },
  {
   "cell_type": "code",
   "execution_count": null,
   "metadata": {},
   "outputs": [],
   "source": []
  }
 ],
 "metadata": {
  "kernelspec": {
   "display_name": "Python 3",
   "language": "python",
   "name": "python3"
  },
  "language_info": {
   "codemirror_mode": {
    "name": "ipython",
    "version": 3
   },
   "file_extension": ".py",
   "mimetype": "text/x-python",
   "name": "python",
   "nbconvert_exporter": "python",
   "pygments_lexer": "ipython3",
   "version": "3.11.8"
  }
 },
 "nbformat": 4,
 "nbformat_minor": 2
}
