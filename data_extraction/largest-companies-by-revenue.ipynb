{
 "cells": [
  {
   "cell_type": "code",
   "execution_count": 1,
   "metadata": {},
   "outputs": [],
   "source": [
    "from bs4 import BeautifulSoup\n",
    "import requests\n",
    "import pandas as pd"
   ]
  },
  {
   "cell_type": "code",
   "execution_count": 2,
   "metadata": {},
   "outputs": [],
   "source": [
    "url = 'https://en.wikipedia.org/wiki/List_of_largest_companies_in_the_United_States_by_revenue'\n",
    "page = requests.get(url)\n",
    "soup = BeautifulSoup(page.text,'html')"
   ]
  },
  {
   "cell_type": "code",
   "execution_count": 3,
   "metadata": {},
   "outputs": [],
   "source": [
    "table = soup.find_all('table', {\"class\" :'wikitable sortable'})[0] #same way but it gets specific tables"
   ]
  },
  {
   "cell_type": "code",
   "execution_count": 4,
   "metadata": {},
   "outputs": [],
   "source": [
    "table = soup.find_all('table')[1] #same way to but this gets all tables"
   ]
  },
  {
   "cell_type": "code",
   "execution_count": 5,
   "metadata": {},
   "outputs": [],
   "source": [
    "world_titles = table.find_all('th')"
   ]
  },
  {
   "cell_type": "code",
   "execution_count": 6,
   "metadata": {},
   "outputs": [
    {
     "data": {
      "text/plain": [
       "['Rank',\n",
       " 'Name',\n",
       " 'Industry',\n",
       " 'Revenue (USD billions)',\n",
       " 'Employees',\n",
       " 'Headquarters']"
      ]
     },
     "execution_count": 6,
     "metadata": {},
     "output_type": "execute_result"
    }
   ],
   "source": [
    "world_table_titles = [ title.text.strip() for title in world_titles]\n",
    "world_table_titles"
   ]
  },
  {
   "cell_type": "code",
   "execution_count": 7,
   "metadata": {},
   "outputs": [
    {
     "data": {
      "text/html": [
       "<div>\n",
       "<style scoped>\n",
       "    .dataframe tbody tr th:only-of-type {\n",
       "        vertical-align: middle;\n",
       "    }\n",
       "\n",
       "    .dataframe tbody tr th {\n",
       "        vertical-align: top;\n",
       "    }\n",
       "\n",
       "    .dataframe thead th {\n",
       "        text-align: right;\n",
       "    }\n",
       "</style>\n",
       "<table border=\"1\" class=\"dataframe\">\n",
       "  <thead>\n",
       "    <tr style=\"text-align: right;\">\n",
       "      <th></th>\n",
       "      <th>Rank</th>\n",
       "      <th>Name</th>\n",
       "      <th>Industry</th>\n",
       "      <th>Revenue (USD billions)</th>\n",
       "      <th>Employees</th>\n",
       "      <th>Headquarters</th>\n",
       "    </tr>\n",
       "  </thead>\n",
       "  <tbody>\n",
       "  </tbody>\n",
       "</table>\n",
       "</div>"
      ],
      "text/plain": [
       "Empty DataFrame\n",
       "Columns: [Rank, Name, Industry, Revenue (USD billions), Employees, Headquarters]\n",
       "Index: []"
      ]
     },
     "execution_count": 7,
     "metadata": {},
     "output_type": "execute_result"
    }
   ],
   "source": [
    "df = pd.DataFrame(columns = world_table_titles)\n",
    "df"
   ]
  },
  {
   "cell_type": "code",
   "execution_count": 8,
   "metadata": {},
   "outputs": [],
   "source": [
    "column_data = table.find_all('tr')"
   ]
  },
  {
   "cell_type": "code",
   "execution_count": 9,
   "metadata": {},
   "outputs": [],
   "source": [
    "for row in column_data[1:]:\n",
    "    row_data = row.find_all('td')\n",
    "    individual_row_data = [data.text.strip() for data in row_data]\n",
    "\n",
    "    length = len(df)\n",
    "    df.loc[length] = individual_row_data #Place the data in the next position after the length of the dataframe"
   ]
  },
  {
   "cell_type": "code",
   "execution_count": 10,
   "metadata": {},
   "outputs": [
    {
     "data": {
      "text/html": [
       "<div>\n",
       "<style scoped>\n",
       "    .dataframe tbody tr th:only-of-type {\n",
       "        vertical-align: middle;\n",
       "    }\n",
       "\n",
       "    .dataframe tbody tr th {\n",
       "        vertical-align: top;\n",
       "    }\n",
       "\n",
       "    .dataframe thead th {\n",
       "        text-align: right;\n",
       "    }\n",
       "</style>\n",
       "<table border=\"1\" class=\"dataframe\">\n",
       "  <thead>\n",
       "    <tr style=\"text-align: right;\">\n",
       "      <th></th>\n",
       "      <th>Rank</th>\n",
       "      <th>Name</th>\n",
       "      <th>Industry</th>\n",
       "      <th>Revenue (USD billions)</th>\n",
       "      <th>Employees</th>\n",
       "      <th>Headquarters</th>\n",
       "    </tr>\n",
       "  </thead>\n",
       "  <tbody>\n",
       "    <tr>\n",
       "      <th>0</th>\n",
       "      <td>1</td>\n",
       "      <td>Cargill</td>\n",
       "      <td>Food industry</td>\n",
       "      <td>177</td>\n",
       "      <td>160,000</td>\n",
       "      <td>Minnetonka, Minnesota</td>\n",
       "    </tr>\n",
       "    <tr>\n",
       "      <th>1</th>\n",
       "      <td>2</td>\n",
       "      <td>Koch Industries</td>\n",
       "      <td>Conglomerate</td>\n",
       "      <td>125</td>\n",
       "      <td>120,000</td>\n",
       "      <td>Wichita, Kansas</td>\n",
       "    </tr>\n",
       "    <tr>\n",
       "      <th>2</th>\n",
       "      <td>3</td>\n",
       "      <td>Publix Super Markets</td>\n",
       "      <td>Retail</td>\n",
       "      <td>54.5</td>\n",
       "      <td>250,000</td>\n",
       "      <td>Winter Haven, Florida</td>\n",
       "    </tr>\n",
       "    <tr>\n",
       "      <th>3</th>\n",
       "      <td>4</td>\n",
       "      <td>Mars, Incorporated</td>\n",
       "      <td>Food industry</td>\n",
       "      <td>47</td>\n",
       "      <td>140,000</td>\n",
       "      <td>McLean, Virginia</td>\n",
       "    </tr>\n",
       "    <tr>\n",
       "      <th>4</th>\n",
       "      <td>5</td>\n",
       "      <td>H-E-B</td>\n",
       "      <td>Retail</td>\n",
       "      <td>43.6</td>\n",
       "      <td>145,000</td>\n",
       "      <td>San Antonio, Texas</td>\n",
       "    </tr>\n",
       "    <tr>\n",
       "      <th>5</th>\n",
       "      <td>6</td>\n",
       "      <td>Reyes Holdings</td>\n",
       "      <td>Wholesaling</td>\n",
       "      <td>40</td>\n",
       "      <td>36,000</td>\n",
       "      <td>Rosemont, Illinois</td>\n",
       "    </tr>\n",
       "    <tr>\n",
       "      <th>6</th>\n",
       "      <td>7</td>\n",
       "      <td>Enterprise Holdings</td>\n",
       "      <td>Car rental</td>\n",
       "      <td>35</td>\n",
       "      <td>90,000</td>\n",
       "      <td>Clayton, Missouri</td>\n",
       "    </tr>\n",
       "    <tr>\n",
       "      <th>7</th>\n",
       "      <td>8</td>\n",
       "      <td>C&amp;S Wholesale Grocers</td>\n",
       "      <td>Wholesaling</td>\n",
       "      <td>34.7</td>\n",
       "      <td>15,000</td>\n",
       "      <td>Keene, New Hampshire</td>\n",
       "    </tr>\n",
       "    <tr>\n",
       "      <th>8</th>\n",
       "      <td>9</td>\n",
       "      <td>Love's</td>\n",
       "      <td>Petroleum industry and Retail</td>\n",
       "      <td>26.5</td>\n",
       "      <td>40,000</td>\n",
       "      <td>Oklahoma City, Oklahoma</td>\n",
       "    </tr>\n",
       "    <tr>\n",
       "      <th>9</th>\n",
       "      <td>10</td>\n",
       "      <td>Southern Glazer's Wine and Spirits</td>\n",
       "      <td>Food industry</td>\n",
       "      <td>26.0</td>\n",
       "      <td>24,000</td>\n",
       "      <td>Miramar, Florida</td>\n",
       "    </tr>\n",
       "  </tbody>\n",
       "</table>\n",
       "</div>"
      ],
      "text/plain": [
       "  Rank                                Name                       Industry  \\\n",
       "0    1                             Cargill                  Food industry   \n",
       "1    2                     Koch Industries                   Conglomerate   \n",
       "2    3                Publix Super Markets                         Retail   \n",
       "3    4                  Mars, Incorporated                  Food industry   \n",
       "4    5                               H-E-B                         Retail   \n",
       "5    6                      Reyes Holdings                    Wholesaling   \n",
       "6    7                 Enterprise Holdings                     Car rental   \n",
       "7    8               C&S Wholesale Grocers                    Wholesaling   \n",
       "8    9                              Love's  Petroleum industry and Retail   \n",
       "9   10  Southern Glazer's Wine and Spirits                  Food industry   \n",
       "\n",
       "  Revenue (USD billions) Employees             Headquarters  \n",
       "0                    177   160,000    Minnetonka, Minnesota  \n",
       "1                    125   120,000          Wichita, Kansas  \n",
       "2                   54.5   250,000    Winter Haven, Florida  \n",
       "3                     47   140,000         McLean, Virginia  \n",
       "4                   43.6   145,000       San Antonio, Texas  \n",
       "5                     40    36,000       Rosemont, Illinois  \n",
       "6                     35    90,000        Clayton, Missouri  \n",
       "7                   34.7    15,000     Keene, New Hampshire  \n",
       "8                   26.5    40,000  Oklahoma City, Oklahoma  \n",
       "9                   26.0    24,000         Miramar, Florida  "
      ]
     },
     "execution_count": 10,
     "metadata": {},
     "output_type": "execute_result"
    }
   ],
   "source": [
    "df"
   ]
  },
  {
   "cell_type": "code",
   "execution_count": 11,
   "metadata": {},
   "outputs": [],
   "source": [
    "df.to_csv(r'C:\\Users\\brian\\Desktop\\portfolio\\portfolio\\data_extraction\\Companies.csv',index=False)"
   ]
  }
 ],
 "metadata": {
  "kernelspec": {
   "display_name": "Python 3",
   "language": "python",
   "name": "python3"
  },
  "language_info": {
   "codemirror_mode": {
    "name": "ipython",
    "version": 3
   },
   "file_extension": ".py",
   "mimetype": "text/x-python",
   "name": "python",
   "nbconvert_exporter": "python",
   "pygments_lexer": "ipython3",
   "version": "3.11.8"
  }
 },
 "nbformat": 4,
 "nbformat_minor": 2
}
