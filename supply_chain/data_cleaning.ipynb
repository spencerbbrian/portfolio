{
 "cells": [
  {
   "cell_type": "code",
   "execution_count": 50,
   "metadata": {},
   "outputs": [],
   "source": [
    "from pyspark.sql import SparkSession\n",
    "from pyspark.sql.functions import col, abs, when, count\n",
    "from pyspark.sql.types import DoubleType"
   ]
  },
  {
   "cell_type": "code",
   "execution_count": 35,
   "metadata": {},
   "outputs": [],
   "source": [
    "spark = SparkSession.builder.appName('supplyChain').getOrCreate()"
   ]
  },
  {
   "cell_type": "code",
   "execution_count": 36,
   "metadata": {},
   "outputs": [],
   "source": [
    "#Read all csvs\n",
    "orders  = spark.read.csv('orders.csv',header=True)\n",
    "categories = spark.read.csv('category.csv',header=True)\n",
    "customers = spark.read.csv('customers.csv',header=True)\n",
    "departments = spark.read.csv('departments.csv',header=True)\n",
    "shipment = spark.read.csv('shipment.csv',header=True)"
   ]
  },
  {
   "cell_type": "code",
   "execution_count": 37,
   "metadata": {},
   "outputs": [
    {
     "name": "stdout",
     "output_type": "stream",
     "text": [
      "+---+--------+------------------------+-----------------------------+----------------+------------------+--------------------------+--------------+\n",
      "|_c0|Order Id|Days for shipping (real)|Days for shipment (scheduled)| Delivery Status|Late_delivery_risk|shipping date (DateOrders)| Shipping Mode|\n",
      "+---+--------+------------------------+-----------------------------+----------------+------------------+--------------------------+--------------+\n",
      "|  0|   77202|                       3|                            4|Advance shipping|                 0|          02/03/2018 22:56|Standard Class|\n",
      "|  1|   75939|                       5|                            4|   Late delivery|                 1|           1/18/2018 12:27|Standard Class|\n",
      "|  2|   75938|                       4|                            4|Shipping on time|                 0|           1/17/2018 12:06|Standard Class|\n",
      "|  3|   75937|                       3|                            4|Advance shipping|                 0|           1/16/2018 11:45|Standard Class|\n",
      "|  4|   75936|                       2|                            4|Advance shipping|                 0|           1/15/2018 11:24|Standard Class|\n",
      "+---+--------+------------------------+-----------------------------+----------------+------------------+--------------------------+--------------+\n",
      "only showing top 5 rows\n",
      "\n"
     ]
    }
   ],
   "source": [
    "# Go through every dataframe\n",
    "shipment.show(5)"
   ]
  },
  {
   "cell_type": "code",
   "execution_count": 38,
   "metadata": {},
   "outputs": [
    {
     "name": "stdout",
     "output_type": "stream",
     "text": [
      "+--------------+\n",
      "|Shipping Mode |\n",
      "+--------------+\n",
      "|First Class   |\n",
      "|Same Day      |\n",
      "|Second Class  |\n",
      "|Standard Class|\n",
      "+--------------+\n",
      "\n"
     ]
    }
   ],
   "source": [
    "#Display all possible values in a column and crosscheck values. Show all values.\n",
    "# unique_values_orders = orders.select(\"Market\").distinct()\n",
    "# unique_values_categories = categories.select(\"Category Name\").distinct()\n",
    "# unique_values_customers = customers.select(\"Customer State\").distinct().show(customers.count(), truncate=False)\n",
    "# unique_values_departments = departments.select(\"Department Name\").distinct().show(departments.count(), truncate=False)\n",
    "unique_values_shipment = shipment.select(\"Shipping Mode\").distinct().show(shipment.count(), truncate=False)"
   ]
  },
  {
   "cell_type": "code",
   "execution_count": 39,
   "metadata": {},
   "outputs": [
    {
     "name": "stdout",
     "output_type": "stream",
     "text": [
      "+---+--------+------------+-------------+------+----------------+-------------------+------------------------+-----------------------+-------------------+------------+-----------------+--------+-----------------------+------------+-----------+\n",
      "|_c0|Order Id|Product Name|Order Item Id| Sales|Order Item Total|Order Item Discount|Order Item Discount Rate|Order Item Profit Ratio|Order Item Quantity|Order Status|Benefit per order|    Type|order date (DateOrders)|      Market|Category Id|\n",
      "+---+--------+------------+-------------+------+----------------+-------------------+------------------------+-----------------------+-------------------+------------+-----------------+--------+-----------------------+------------+-----------+\n",
      "|  0|   77202|Smart watch |       180517|327.75|     314.6400146|        13.10999966|             0.039999999|            0.289999992|                  1|    COMPLETE|            91.25|   DEBIT|        1/31/2018 22:56|Pacific Asia|         73|\n",
      "|  1|   75939|Smart watch |       179254|327.75|     311.3599854|        16.38999939|             0.050000001|            0.800000012|                  1|     PENDING|      249.0899963|TRANSFER|        1/13/2018 12:27|Pacific Asia|         73|\n",
      "+---+--------+------------+-------------+------+----------------+-------------------+------------------------+-----------------------+-------------------+------------+-----------------+--------+-----------------------+------------+-----------+\n",
      "only showing top 2 rows\n",
      "\n"
     ]
    }
   ],
   "source": [
    "#Remove negative values in orders profit and benefit columns\n",
    "orders = orders.withColumn(\"Order Item Profit Ratio\", abs(col(\"Order Item Profit Ratio\")))\n",
    "orders = orders.withColumn(\"Benefit per order\", abs(col(\"Benefit per order\")))\n",
    "orders.show(2)"
   ]
  },
  {
   "cell_type": "code",
   "execution_count": 40,
   "metadata": {},
   "outputs": [],
   "source": [
    "# Change customer state values \n",
    "old_value = 95758 \n",
    "new_value = 'CA'\n",
    "old_value1 = 91732 \n",
    "new_value1 = 'CA'\n",
    "customers = customers.withColumn('Customer State',when(customers['Customer State']==old_value, new_value).otherwise(customers['Customer State']))\n",
    "customers = customers.withColumn('Customer State',when(customers['Customer State']==old_value1, new_value1).otherwise(customers['Customer State']))"
   ]
  },
  {
   "cell_type": "code",
   "execution_count": 41,
   "metadata": {},
   "outputs": [],
   "source": [
    "#Change zipcodes from float to integers\n",
    "customers = customers.withColumn('Customer Zipcode',col('Customer Zipcode').cast('int'))"
   ]
  },
  {
   "cell_type": "code",
   "execution_count": 42,
   "metadata": {},
   "outputs": [
    {
     "data": {
      "text/plain": [
       "[('_c0', 'string'),\n",
       " ('Order Id', 'int'),\n",
       " ('Product Name', 'string'),\n",
       " ('Order Item Id', 'int'),\n",
       " ('Sales', 'double'),\n",
       " ('Order Item Total', 'double'),\n",
       " ('Order Item Discount', 'double'),\n",
       " ('Order Item Discount Rate', 'double'),\n",
       " ('Order Item Profit Ratio', 'double'),\n",
       " ('Order Item Quantity', 'int'),\n",
       " ('Order Status', 'string'),\n",
       " ('Benefit per order', 'double'),\n",
       " ('Type', 'string'),\n",
       " ('order date (DateOrders)', 'timestamp'),\n",
       " ('Market', 'string'),\n",
       " ('Category Id', 'int')]"
      ]
     },
     "execution_count": 42,
     "metadata": {},
     "output_type": "execute_result"
    }
   ],
   "source": [
    "# Change Datatypes for columns that aren't strings in orders dataframe\n",
    "columns_to_cast = ['Order Id', 'Order Item Id','Sales', 'Order Item Total', 'Order Item Discount',\n",
    "                   'Order Item Discount Rate', 'Order Item Profit Ratio', 'Order Item Quantity', \n",
    "                   'Benefit per order', 'order date (DateOrders)', 'Category Id']\n",
    "new_data_types = ['int','int','double','double','double','double','double','int','double','timestamp','int']\n",
    "\n",
    "for col_name, new_data_type in zip(columns_to_cast, new_data_types):\n",
    "    orders = orders.withColumn(col_name, col(col_name).cast(new_data_type))\n",
    "orders.dtypes"
   ]
  },
  {
   "cell_type": "code",
   "execution_count": 43,
   "metadata": {},
   "outputs": [
    {
     "data": {
      "text/plain": [
       "[('_c0', 'string'),\n",
       " ('Category Id', 'int'),\n",
       " ('Category Name', 'string'),\n",
       " ('Orders', 'int')]"
      ]
     },
     "execution_count": 43,
     "metadata": {},
     "output_type": "execute_result"
    }
   ],
   "source": [
    "# Change Datatypes for columns that aren't strings in categories\n",
    "columns_to_cast = ['Category Id','Orders']\n",
    "new_data_types = ['int','int']\n",
    "for col_name, new_data_type in zip(columns_to_cast, new_data_types):\n",
    "    categories = categories.withColumn(col_name, col(col_name).cast(new_data_type))\n",
    "categories.dtypes"
   ]
  },
  {
   "cell_type": "code",
   "execution_count": 44,
   "metadata": {},
   "outputs": [
    {
     "data": {
      "text/plain": [
       "[('_c0', 'string'),\n",
       " ('Customer Id', 'int'),\n",
       " ('Customer Fname', 'string'),\n",
       " ('Customer Lname', 'string'),\n",
       " ('Customer City', 'string'),\n",
       " ('Customer Country', 'string'),\n",
       " ('Customer Segment', 'string'),\n",
       " ('Customer State', 'string'),\n",
       " ('Customer Street', 'string'),\n",
       " ('Customer Zipcode', 'int'),\n",
       " ('Order Id', 'int')]"
      ]
     },
     "execution_count": 44,
     "metadata": {},
     "output_type": "execute_result"
    }
   ],
   "source": [
    "columns_to_cast = ['Customer Id','Customer Zipcode','Order Id']\n",
    "new_data_types = ['int','int','int']\n",
    "for col_name, new_data_type in zip(columns_to_cast, new_data_types):\n",
    "    customers = customers.withColumn(col_name, col(col_name).cast(new_data_type))\n",
    "customers.dtypes"
   ]
  },
  {
   "cell_type": "code",
   "execution_count": 45,
   "metadata": {},
   "outputs": [
    {
     "data": {
      "text/plain": [
       "[('_c0', 'string'),\n",
       " ('Order Id', 'int'),\n",
       " ('Department Id', 'int'),\n",
       " ('Department Name', 'string'),\n",
       " ('Latitude', 'double'),\n",
       " ('Longitude', 'double')]"
      ]
     },
     "execution_count": 45,
     "metadata": {},
     "output_type": "execute_result"
    }
   ],
   "source": [
    "columns_to_cast = ['Order Id','Department Id','Latitude','Longitude']\n",
    "new_data_types = ['int','int',DoubleType(),DoubleType()]\n",
    "for col_name, new_data_type in zip(columns_to_cast, new_data_types):\n",
    "    departments = departments.withColumn(col_name, col(col_name).cast(new_data_type))\n",
    "departments.dtypes"
   ]
  },
  {
   "cell_type": "code",
   "execution_count": 46,
   "metadata": {},
   "outputs": [
    {
     "data": {
      "text/plain": [
       "[('_c0', 'string'),\n",
       " ('Order Id', 'int'),\n",
       " ('Days for shipping (real)', 'int'),\n",
       " ('Days for shipment (scheduled)', 'int'),\n",
       " ('Delivery Status', 'string'),\n",
       " ('Late_delivery_risk', 'int'),\n",
       " ('shipping date (DateOrders)', 'timestamp'),\n",
       " ('Shipping Mode', 'string')]"
      ]
     },
     "execution_count": 46,
     "metadata": {},
     "output_type": "execute_result"
    }
   ],
   "source": [
    "columns_to_cast = ['Order Id','Days for shipping (real)','Days for shipment (scheduled)',\n",
    "                   'Late_delivery_risk','shipping date (DateOrders)']\n",
    "new_data_types = ['int','int','int','int','timestamp']\n",
    "for col_name, new_data_type in zip(columns_to_cast, new_data_types):\n",
    "    shipment = shipment.withColumn(col_name, col(col_name).cast(new_data_type))\n",
    "shipment.dtypes"
   ]
  },
  {
   "cell_type": "code",
   "execution_count": 48,
   "metadata": {},
   "outputs": [
    {
     "name": "stdout",
     "output_type": "stream",
     "text": [
      "+-------+-----------------+------------------+--------------------+------------------+------------------+------------------+-------------------+------------------------+-----------------------+-------------------+---------------+-----------------+--------+------+------------------+\n",
      "|summary|              _c0|          Order Id|        Product Name|     Order Item Id|             Sales|  Order Item Total|Order Item Discount|Order Item Discount Rate|Order Item Profit Ratio|Order Item Quantity|   Order Status|Benefit per order|    Type|Market|       Category Id|\n",
      "+-------+-----------------+------------------+--------------------+------------------+------------------+------------------+-------------------+------------------------+-----------------------+-------------------+---------------+-----------------+--------+------+------------------+\n",
      "|  count|           180519|            180519|              180519|            180519|            180519|            180519|             180519|                  180519|                 180519|             180519|         180519|           180519|  180519|180519|            180519|\n",
      "|   mean|          90259.0|  36221.8949030296|                NULL|           90260.0|203.77209608616224|183.10760850777845| 20.664741121946065|     0.10166819055202549|     0.3545949735122939|  2.127637533999191|           NULL|65.00145505784741|    NULL|  NULL| 31.85145053983237|\n",
      "| stddev|52111.49095928843|21045.379568859407|                NULL|52111.490959288494|132.27307749970353|120.04367002812575|  21.80090095429591|      0.0704152153254763|    0.32667343937115045| 1.4534514814226431|           NULL| 84.6407203132127|    NULL|  NULL|15.640063883389145|\n",
      "|    min|                0|                 1|  Adult dog supplies|                 1|       9.989999771|       7.489999771|                0.0|                     0.0|                    0.0|                  1|       CANCELED|              0.0|    CASH|Africa|                 2|\n",
      "|    max|            99999|             77204|insta-bed Neverfl...|            180519|        1999.98999|        1939.98999|              500.0|                    0.25|                   2.75|                  5|SUSPECTED_FRAUD|       4274.97998|TRANSFER|  USCA|                76|\n",
      "+-------+-----------------+------------------+--------------------+------------------+------------------+------------------+-------------------+------------------------+-----------------------+-------------------+---------------+-----------------+--------+------+------------------+\n",
      "\n"
     ]
    }
   ],
   "source": [
    "orders.describe().show()"
   ]
  },
  {
   "cell_type": "code",
   "execution_count": 59,
   "metadata": {},
   "outputs": [
    {
     "name": "stdout",
     "output_type": "stream",
     "text": [
      "+------------+--------+\n",
      "|      Market|count(1)|\n",
      "+------------+--------+\n",
      "|       LATAM|   51594|\n",
      "|      Europe|   50252|\n",
      "|Pacific Asia|   41260|\n",
      "|        USCA|   25799|\n",
      "|      Africa|   11614|\n",
      "+------------+--------+\n",
      "\n"
     ]
    }
   ],
   "source": [
    "value_counts = orders.groupBy(\"Market\").agg(count(\"*\")).alias(\"Count\")\n",
    "sorted_counts = value_counts.orderBy(\"count(1)\", ascending=False)\n",
    "sorted_counts.show()"
   ]
  }
 ],
 "metadata": {
  "kernelspec": {
   "display_name": "Python 3",
   "language": "python",
   "name": "python3"
  },
  "language_info": {
   "codemirror_mode": {
    "name": "ipython",
    "version": 3
   },
   "file_extension": ".py",
   "mimetype": "text/x-python",
   "name": "python",
   "nbconvert_exporter": "python",
   "pygments_lexer": "ipython3",
   "version": "3.12.2"
  }
 },
 "nbformat": 4,
 "nbformat_minor": 2
}
