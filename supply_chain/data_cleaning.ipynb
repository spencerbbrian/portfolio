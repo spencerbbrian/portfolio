{
 "cells": [
  {
   "cell_type": "code",
   "execution_count": null,
   "metadata": {},
   "outputs": [],
   "source": [
    "# import libraries\n",
    "# read files\n",
    "# check datatypes\n",
    "# check for categorical value misspell\n",
    "# Standardize categorical values (spelling, capitalization etc)\n",
    "# Check for missing values\n",
    "# Crosscheck all numerical values\n",
    "# Check and modify column data types\n",
    "# check for duplicates if necessary\n",
    "# Use visualization for outliers\n",
    "# Remove irrelevant columns\n",
    "# Convert units to a consistent format"
   ]
  }
 ],
 "metadata": {
  "language_info": {
   "name": "python"
  }
 },
 "nbformat": 4,
 "nbformat_minor": 2
}
