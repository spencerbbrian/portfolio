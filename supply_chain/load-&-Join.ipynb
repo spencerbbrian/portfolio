{
 "cells": [
  {
   "cell_type": "code",
   "execution_count": 1,
   "metadata": {},
   "outputs": [],
   "source": [
    "from pyspark.sql import SparkSession"
   ]
  },
  {
   "cell_type": "code",
   "execution_count": 2,
   "metadata": {},
   "outputs": [],
   "source": [
    "spark = SparkSession.builder.getOrCreate()"
   ]
  },
  {
   "cell_type": "code",
   "execution_count": 3,
   "metadata": {},
   "outputs": [
    {
     "name": "stdout",
     "output_type": "stream",
     "text": [
      "+---+--------+------------+-------------+------+----------------+-------------------+------------------------+-----------------------+-------------------+------------+-----------------+-----+-----------------------+------------+-----------+\n",
      "|_c0|Order Id|Product Name|Order Item Id| Sales|Order Item Total|Order Item Discount|Order Item Discount Rate|Order Item Profit Ratio|Order Item Quantity|Order Status|Benefit per order| Type|order date (DateOrders)|      Market|Category Id|\n",
      "+---+--------+------------+-------------+------+----------------+-------------------+------------------------+-----------------------+-------------------+------------+-----------------+-----+-----------------------+------------+-----------+\n",
      "|  0|   77202|Smart watch |       180517|327.75|     314.6400146|        13.10999966|             0.039999999|            0.289999992|                  1|    COMPLETE|            91.25|DEBIT|        1/31/2018 22:56|Pacific Asia|         73|\n",
      "+---+--------+------------+-------------+------+----------------+-------------------+------------------------+-----------------------+-------------------+------------+-----------------+-----+-----------------------+------------+-----------+\n",
      "only showing top 1 row\n",
      "\n"
     ]
    }
   ],
   "source": [
    "orders  = spark.read.csv('orders.csv',header=True)\n",
    "orders.show(1)"
   ]
  },
  {
   "cell_type": "code",
   "execution_count": 4,
   "metadata": {},
   "outputs": [
    {
     "name": "stdout",
     "output_type": "stream",
     "text": [
      "+---+-----------+--------------+--------------+-------------+----------------+----------------+--------------+--------------------+----------------+--------+\n",
      "|_c0|Customer Id|Customer Fname|Customer Lname|Customer City|Customer Country|Customer Segment|Customer State|     Customer Street|Customer Zipcode|Order Id|\n",
      "+---+-----------+--------------+--------------+-------------+----------------+----------------+--------------+--------------------+----------------+--------+\n",
      "|  0|      20755|         Cally|      Holloway|       Caguas|     Puerto Rico|        Consumer|            PR|5365 Noble Nectar...|           725.0|   77202|\n",
      "+---+-----------+--------------+--------------+-------------+----------------+----------------+--------------+--------------------+----------------+--------+\n",
      "only showing top 1 row\n",
      "\n"
     ]
    }
   ],
   "source": [
    "customers = spark.read.csv('customers.csv',header=True)\n",
    "customers.show(1)"
   ]
  },
  {
   "cell_type": "code",
   "execution_count": 8,
   "metadata": {},
   "outputs": [],
   "source": [
    "customers = customers.withColumnRenamed(\"Order Id\", \"order_id\")\n",
    "orders = orders.withColumnRenamed(\"Order Id\", \"order_id\")"
   ]
  },
  {
   "cell_type": "code",
   "execution_count": 9,
   "metadata": {},
   "outputs": [
    {
     "name": "stdout",
     "output_type": "stream",
     "text": [
      "+---+-----------+--------------+--------------+-------------+----------------+----------------+--------------+--------------------+----------------+--------+\n",
      "|_c0|Customer Id|Customer Fname|Customer Lname|Customer City|Customer Country|Customer Segment|Customer State|     Customer Street|Customer Zipcode|order_id|\n",
      "+---+-----------+--------------+--------------+-------------+----------------+----------------+--------------+--------------------+----------------+--------+\n",
      "|  0|      20755|         Cally|      Holloway|       Caguas|     Puerto Rico|        Consumer|            PR|5365 Noble Nectar...|           725.0|   77202|\n",
      "+---+-----------+--------------+--------------+-------------+----------------+----------------+--------------+--------------------+----------------+--------+\n",
      "only showing top 1 row\n",
      "\n"
     ]
    }
   ],
   "source": [
    "customers.show(1)"
   ]
  },
  {
   "cell_type": "code",
   "execution_count": 10,
   "metadata": {},
   "outputs": [],
   "source": [
    "orders.createOrReplaceTempView('orders')\n",
    "customers.createOrReplaceTempView('customers')"
   ]
  },
  {
   "cell_type": "code",
   "execution_count": 11,
   "metadata": {},
   "outputs": [
    {
     "name": "stdout",
     "output_type": "stream",
     "text": [
      "+------+--------+--------------------+-------------+-----------+----------------+-------------------+------------------------+-----------------------+-------------------+------------+-----------------+----+-----------------------+------+-----------+------+-----------+--------------+--------------+-------------+----------------+----------------+--------------+------------------+----------------+--------+\n",
      "|   _c0|order_id|        Product Name|Order Item Id|      Sales|Order Item Total|Order Item Discount|Order Item Discount Rate|Order Item Profit Ratio|Order Item Quantity|Order Status|Benefit per order|Type|order date (DateOrders)|Market|Category Id|   _c0|Customer Id|Customer Fname|Customer Lname|Customer City|Customer Country|Customer Segment|Customer State|   Customer Street|Customer Zipcode|order_id|\n",
      "+------+--------+--------------------+-------------+-----------+----------------+-------------------+------------------------+-----------------------+-------------------+------------+-----------------+----+-----------------------+------+-----------+------+-----------+--------------+--------------+-------------+----------------+----------------+--------------+------------------+----------------+--------+\n",
      "|  5694|      12|Nike Women's Lege...|           35|      100.0|            87.0|               13.0|             0.129999995|            0.270000011|                  4|      CLOSED|      23.48999977|CASH|          1/1/2015 3:51| LATAM|          7|  5694|       1837|          Mary|          Vega|       Caguas|     Puerto Rico|     Home Office|            PR|4312 Bright Corner|           725.0|      12|\n",
      "|  5694|      12|Nike Women's Lege...|           35|      100.0|            87.0|               13.0|             0.129999995|            0.270000011|                  4|      CLOSED|      23.48999977|CASH|          1/1/2015 3:51| LATAM|          7|114909|       1837|          Mary|          Vega|       Caguas|     Puerto Rico|     Home Office|            PR|4312 Bright Corner|           725.0|      12|\n",
      "|  5694|      12|Nike Women's Lege...|           35|      100.0|            87.0|               13.0|             0.129999995|            0.270000011|                  4|      CLOSED|      23.48999977|CASH|          1/1/2015 3:51| LATAM|          7|140739|       1837|          Mary|          Vega|       Caguas|     Puerto Rico|     Home Office|            PR|4312 Bright Corner|           725.0|      12|\n",
      "|  5694|      12|Nike Women's Lege...|           35|      100.0|            87.0|               13.0|             0.129999995|            0.270000011|                  4|      CLOSED|      23.48999977|CASH|          1/1/2015 3:51| LATAM|          7|141056|       1837|          Mary|          Vega|       Caguas|     Puerto Rico|     Home Office|            PR|4312 Bright Corner|           725.0|      12|\n",
      "|  5694|      12|Nike Women's Lege...|           35|      100.0|            87.0|               13.0|             0.129999995|            0.270000011|                  4|      CLOSED|      23.48999977|CASH|          1/1/2015 3:51| LATAM|          7|141067|       1837|          Mary|          Vega|       Caguas|     Puerto Rico|     Home Office|            PR|4312 Bright Corner|           725.0|      12|\n",
      "|114909|      12|O'Brien Men's Neo...|           36|149.9400024|     131.9499969|        17.98999977|             0.119999997|            0.360000014|                  3|      CLOSED|      47.90000153|CASH|          1/1/2015 3:51| LATAM|         46|  5694|       1837|          Mary|          Vega|       Caguas|     Puerto Rico|     Home Office|            PR|4312 Bright Corner|           725.0|      12|\n",
      "|114909|      12|O'Brien Men's Neo...|           36|149.9400024|     131.9499969|        17.98999977|             0.119999997|            0.360000014|                  3|      CLOSED|      47.90000153|CASH|          1/1/2015 3:51| LATAM|         46|114909|       1837|          Mary|          Vega|       Caguas|     Puerto Rico|     Home Office|            PR|4312 Bright Corner|           725.0|      12|\n",
      "|114909|      12|O'Brien Men's Neo...|           36|149.9400024|     131.9499969|        17.98999977|             0.119999997|            0.360000014|                  3|      CLOSED|      47.90000153|CASH|          1/1/2015 3:51| LATAM|         46|140739|       1837|          Mary|          Vega|       Caguas|     Puerto Rico|     Home Office|            PR|4312 Bright Corner|           725.0|      12|\n",
      "|114909|      12|O'Brien Men's Neo...|           36|149.9400024|     131.9499969|        17.98999977|             0.119999997|            0.360000014|                  3|      CLOSED|      47.90000153|CASH|          1/1/2015 3:51| LATAM|         46|141056|       1837|          Mary|          Vega|       Caguas|     Puerto Rico|     Home Office|            PR|4312 Bright Corner|           725.0|      12|\n",
      "|114909|      12|O'Brien Men's Neo...|           36|149.9400024|     131.9499969|        17.98999977|             0.119999997|            0.360000014|                  3|      CLOSED|      47.90000153|CASH|          1/1/2015 3:51| LATAM|         46|141067|       1837|          Mary|          Vega|       Caguas|     Puerto Rico|     Home Office|            PR|4312 Bright Corner|           725.0|      12|\n",
      "|140739|      12|Diamondback Women...|           34| 299.980011|     254.9799957|               45.0|             0.150000006|            0.340000004|                  1|      CLOSED|      86.18000031|CASH|          1/1/2015 3:51| LATAM|         43|  5694|       1837|          Mary|          Vega|       Caguas|     Puerto Rico|     Home Office|            PR|4312 Bright Corner|           725.0|      12|\n",
      "|140739|      12|Diamondback Women...|           34| 299.980011|     254.9799957|               45.0|             0.150000006|            0.340000004|                  1|      CLOSED|      86.18000031|CASH|          1/1/2015 3:51| LATAM|         43|114909|       1837|          Mary|          Vega|       Caguas|     Puerto Rico|     Home Office|            PR|4312 Bright Corner|           725.0|      12|\n",
      "|140739|      12|Diamondback Women...|           34| 299.980011|     254.9799957|               45.0|             0.150000006|            0.340000004|                  1|      CLOSED|      86.18000031|CASH|          1/1/2015 3:51| LATAM|         43|140739|       1837|          Mary|          Vega|       Caguas|     Puerto Rico|     Home Office|            PR|4312 Bright Corner|           725.0|      12|\n",
      "|140739|      12|Diamondback Women...|           34| 299.980011|     254.9799957|               45.0|             0.150000006|            0.340000004|                  1|      CLOSED|      86.18000031|CASH|          1/1/2015 3:51| LATAM|         43|141056|       1837|          Mary|          Vega|       Caguas|     Puerto Rico|     Home Office|            PR|4312 Bright Corner|           725.0|      12|\n",
      "|140739|      12|Diamondback Women...|           34| 299.980011|     254.9799957|               45.0|             0.150000006|            0.340000004|                  1|      CLOSED|      86.18000031|CASH|          1/1/2015 3:51| LATAM|         43|141067|       1837|          Mary|          Vega|       Caguas|     Puerto Rico|     Home Office|            PR|4312 Bright Corner|           725.0|      12|\n",
      "|141056|      12|Nike Men's Free 5...|           37|499.9500122|     489.9500122|               10.0|                    0.02|            0.300000012|                  5|      CLOSED|      146.9900055|CASH|          1/1/2015 3:51| LATAM|          9|  5694|       1837|          Mary|          Vega|       Caguas|     Puerto Rico|     Home Office|            PR|4312 Bright Corner|           725.0|      12|\n",
      "|141056|      12|Nike Men's Free 5...|           37|499.9500122|     489.9500122|               10.0|                    0.02|            0.300000012|                  5|      CLOSED|      146.9900055|CASH|          1/1/2015 3:51| LATAM|          9|114909|       1837|          Mary|          Vega|       Caguas|     Puerto Rico|     Home Office|            PR|4312 Bright Corner|           725.0|      12|\n",
      "|141056|      12|Nike Men's Free 5...|           37|499.9500122|     489.9500122|               10.0|                    0.02|            0.300000012|                  5|      CLOSED|      146.9900055|CASH|          1/1/2015 3:51| LATAM|          9|140739|       1837|          Mary|          Vega|       Caguas|     Puerto Rico|     Home Office|            PR|4312 Bright Corner|           725.0|      12|\n",
      "|141056|      12|Nike Men's Free 5...|           37|499.9500122|     489.9500122|               10.0|                    0.02|            0.300000012|                  5|      CLOSED|      146.9900055|CASH|          1/1/2015 3:51| LATAM|          9|141056|       1837|          Mary|          Vega|       Caguas|     Puerto Rico|     Home Office|            PR|4312 Bright Corner|           725.0|      12|\n",
      "|141056|      12|Nike Men's Free 5...|           37|499.9500122|     489.9500122|               10.0|                    0.02|            0.300000012|                  5|      CLOSED|      146.9900055|CASH|          1/1/2015 3:51| LATAM|          9|141067|       1837|          Mary|          Vega|       Caguas|     Puerto Rico|     Home Office|            PR|4312 Bright Corner|           725.0|      12|\n",
      "+------+--------+--------------------+-------------+-----------+----------------+-------------------+------------------------+-----------------------+-------------------+------------+-----------------+----+-----------------------+------+-----------+------+-----------+--------------+--------------+-------------+----------------+----------------+--------------+------------------+----------------+--------+\n",
      "only showing top 20 rows\n",
      "\n"
     ]
    }
   ],
   "source": [
    "spark.sql('''\n",
    "        select ord.*,cus.*\n",
    "        from orders as ord\n",
    "          inner join customers as cus on (ord.order_id=cus.order_id)\n",
    "          where cus.order_id = 12\n",
    "          ''').show()"
   ]
  }
 ],
 "metadata": {
  "kernelspec": {
   "display_name": "Python 3",
   "language": "python",
   "name": "python3"
  },
  "language_info": {
   "codemirror_mode": {
    "name": "ipython",
    "version": 3
   },
   "file_extension": ".py",
   "mimetype": "text/x-python",
   "name": "python",
   "nbconvert_exporter": "python",
   "pygments_lexer": "ipython3",
   "version": "3.12.2"
  }
 },
 "nbformat": 4,
 "nbformat_minor": 2
}
