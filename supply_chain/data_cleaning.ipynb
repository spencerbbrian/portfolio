{
 "cells": [
  {
   "cell_type": "code",
   "execution_count": 203,
   "metadata": {},
   "outputs": [],
   "source": [
    "# import libraries\n",
    "# read files\n",
    "# check datatypes\n",
    "# check for categorical value misspell\n",
    "# Standardize categorical values (spelling, capitalization etc)\n",
    "# Check for missing values\n",
    "# Crosscheck all numerical values\n",
    "# Check and modify column data types\n",
    "# check for duplicates if necessary\n",
    "# Use visualization for outliers\n",
    "# Remove irrelevant columns\n",
    "# Convert units to a consistent format"
   ]
  },
  {
   "cell_type": "code",
   "execution_count": 204,
   "metadata": {},
   "outputs": [],
   "source": [
    "# import libraries\n",
    "import pandas as pd"
   ]
  },
  {
   "cell_type": "code",
   "execution_count": 205,
   "metadata": {},
   "outputs": [],
   "source": [
    "# Read all csv files\n",
    "categories = pd.read_csv('category.csv')\n",
    "customers = pd.read_csv('customers.csv')\n",
    "departments = pd.read_csv('departments.csv')\n",
    "orders = pd.read_csv('orders.csv')\n",
    "shipment = pd.read_csv('shipment.csv')"
   ]
  },
  {
   "cell_type": "code",
   "execution_count": 206,
   "metadata": {},
   "outputs": [
    {
     "data": {
      "text/html": [
       "<div>\n",
       "<style scoped>\n",
       "    .dataframe tbody tr th:only-of-type {\n",
       "        vertical-align: middle;\n",
       "    }\n",
       "\n",
       "    .dataframe tbody tr th {\n",
       "        vertical-align: top;\n",
       "    }\n",
       "\n",
       "    .dataframe thead th {\n",
       "        text-align: right;\n",
       "    }\n",
       "</style>\n",
       "<table border=\"1\" class=\"dataframe\">\n",
       "  <thead>\n",
       "    <tr style=\"text-align: right;\">\n",
       "      <th></th>\n",
       "      <th>Unnamed: 0</th>\n",
       "      <th>Category Id</th>\n",
       "      <th>Category Name</th>\n",
       "      <th>Orders</th>\n",
       "    </tr>\n",
       "  </thead>\n",
       "  <tbody>\n",
       "    <tr>\n",
       "      <th>0</th>\n",
       "      <td>46</td>\n",
       "      <td>2</td>\n",
       "      <td>Soccer</td>\n",
       "      <td>138</td>\n",
       "    </tr>\n",
       "    <tr>\n",
       "      <th>1</th>\n",
       "      <td>19</td>\n",
       "      <td>3</td>\n",
       "      <td>Baseball &amp; Softball</td>\n",
       "      <td>632</td>\n",
       "    </tr>\n",
       "    <tr>\n",
       "      <th>2</th>\n",
       "      <td>49</td>\n",
       "      <td>4</td>\n",
       "      <td>Basketball</td>\n",
       "      <td>67</td>\n",
       "    </tr>\n",
       "    <tr>\n",
       "      <th>3</th>\n",
       "      <td>38</td>\n",
       "      <td>5</td>\n",
       "      <td>Lacrosse</td>\n",
       "      <td>343</td>\n",
       "    </tr>\n",
       "    <tr>\n",
       "      <th>4</th>\n",
       "      <td>39</td>\n",
       "      <td>6</td>\n",
       "      <td>Tennis &amp; Racquet</td>\n",
       "      <td>328</td>\n",
       "    </tr>\n",
       "  </tbody>\n",
       "</table>\n",
       "</div>"
      ],
      "text/plain": [
       "   Unnamed: 0  Category Id        Category Name  Orders\n",
       "0          46            2               Soccer     138\n",
       "1          19            3  Baseball & Softball     632\n",
       "2          49            4           Basketball      67\n",
       "3          38            5             Lacrosse     343\n",
       "4          39            6     Tennis & Racquet     328"
      ]
     },
     "execution_count": 206,
     "metadata": {},
     "output_type": "execute_result"
    }
   ],
   "source": [
    "# Sample of categories\n",
    "categories.head()"
   ]
  },
  {
   "cell_type": "code",
   "execution_count": 207,
   "metadata": {},
   "outputs": [],
   "source": [
    "# Create new column from old Unnamed: 0 column\n",
    "categories['Rating by total orders'] = categories['Unnamed: 0']"
   ]
  },
  {
   "cell_type": "code",
   "execution_count": 208,
   "metadata": {},
   "outputs": [
    {
     "data": {
      "text/plain": [
       "array(['Soccer', 'Baseball & Softball', 'Basketball', 'Lacrosse',\n",
       "       'Tennis & Racquet', 'Hockey', 'Cardio Equipment',\n",
       "       'Strength Training', 'Fitness Accessories', 'Boxing & MMA',\n",
       "       'Electronics', 'As Seen on  TV!', 'Cleats', \"Men's Footwear\",\n",
       "       \"Women's Apparel\", \"Girls' Apparel\", 'Shop By Sport',\n",
       "       \"Men's Golf Clubs\", \"Women's Golf Clubs\", 'Golf Apparel',\n",
       "       'Golf Shoes', 'Golf Bags & Carts', 'Golf Gloves', 'Golf Balls',\n",
       "       \"Kids' Golf Clubs\", 'Accessories', 'Trade-In', 'Camping & Hiking',\n",
       "       'Hunting & Shooting', 'Fishing', 'Indoor/Outdoor Games',\n",
       "       'Water Sports', 'Books ', 'Baby ', 'CDs ', 'Cameras ',\n",
       "       \"Children's Clothing\", 'Computers', 'Consumer Electronics',\n",
       "       'Crafts', 'DVDs', 'Garden', 'Health and Beauty', \"Men's Clothing\",\n",
       "       'Music', 'Pet Supplies', 'Sporting Goods', 'Toys', 'Video Games',\n",
       "       \"Women's Clothing\"], dtype=object)"
      ]
     },
     "execution_count": 208,
     "metadata": {},
     "output_type": "execute_result"
    }
   ],
   "source": [
    "# Check Category Name unique values\n",
    "categories['Category Name'].unique()"
   ]
  },
  {
   "cell_type": "code",
   "execution_count": 209,
   "metadata": {},
   "outputs": [
    {
     "data": {
      "text/plain": [
       "Unnamed: 0                 int64\n",
       "Category Id                int64\n",
       "Category Name             object\n",
       "Orders                     int64\n",
       "Rating by total orders     int64\n",
       "dtype: object"
      ]
     },
     "execution_count": 209,
     "metadata": {},
     "output_type": "execute_result"
    }
   ],
   "source": [
    "# Check categories columns datatypes\n",
    "categories.dtypes"
   ]
  },
  {
   "cell_type": "code",
   "execution_count": 210,
   "metadata": {},
   "outputs": [
    {
     "data": {
      "text/html": [
       "<div>\n",
       "<style scoped>\n",
       "    .dataframe tbody tr th:only-of-type {\n",
       "        vertical-align: middle;\n",
       "    }\n",
       "\n",
       "    .dataframe tbody tr th {\n",
       "        vertical-align: top;\n",
       "    }\n",
       "\n",
       "    .dataframe thead th {\n",
       "        text-align: right;\n",
       "    }\n",
       "</style>\n",
       "<table border=\"1\" class=\"dataframe\">\n",
       "  <thead>\n",
       "    <tr style=\"text-align: right;\">\n",
       "      <th></th>\n",
       "      <th>Unnamed: 0</th>\n",
       "      <th>Customer Id</th>\n",
       "      <th>Customer Fname</th>\n",
       "      <th>Customer Lname</th>\n",
       "      <th>Customer City</th>\n",
       "      <th>Customer Country</th>\n",
       "      <th>Customer Segment</th>\n",
       "      <th>Customer State</th>\n",
       "      <th>Customer Street</th>\n",
       "      <th>Customer Zipcode</th>\n",
       "      <th>Order Id</th>\n",
       "    </tr>\n",
       "  </thead>\n",
       "  <tbody>\n",
       "    <tr>\n",
       "      <th>0</th>\n",
       "      <td>0</td>\n",
       "      <td>20755</td>\n",
       "      <td>Cally</td>\n",
       "      <td>Holloway</td>\n",
       "      <td>Caguas</td>\n",
       "      <td>Puerto Rico</td>\n",
       "      <td>Consumer</td>\n",
       "      <td>PR</td>\n",
       "      <td>5365 Noble Nectar Island</td>\n",
       "      <td>725.0</td>\n",
       "      <td>77202</td>\n",
       "    </tr>\n",
       "    <tr>\n",
       "      <th>1</th>\n",
       "      <td>1</td>\n",
       "      <td>19492</td>\n",
       "      <td>Irene</td>\n",
       "      <td>Luna</td>\n",
       "      <td>Caguas</td>\n",
       "      <td>Puerto Rico</td>\n",
       "      <td>Consumer</td>\n",
       "      <td>PR</td>\n",
       "      <td>2679 Rustic Loop</td>\n",
       "      <td>725.0</td>\n",
       "      <td>75939</td>\n",
       "    </tr>\n",
       "    <tr>\n",
       "      <th>2</th>\n",
       "      <td>2</td>\n",
       "      <td>19491</td>\n",
       "      <td>Gillian</td>\n",
       "      <td>Maldonado</td>\n",
       "      <td>San Jose</td>\n",
       "      <td>EE. UU.</td>\n",
       "      <td>Consumer</td>\n",
       "      <td>CA</td>\n",
       "      <td>8510 Round Bear Gate</td>\n",
       "      <td>95125.0</td>\n",
       "      <td>75938</td>\n",
       "    </tr>\n",
       "    <tr>\n",
       "      <th>3</th>\n",
       "      <td>3</td>\n",
       "      <td>19490</td>\n",
       "      <td>Tana</td>\n",
       "      <td>Tate</td>\n",
       "      <td>Los Angeles</td>\n",
       "      <td>EE. UU.</td>\n",
       "      <td>Home Office</td>\n",
       "      <td>CA</td>\n",
       "      <td>3200 Amber Bend</td>\n",
       "      <td>90027.0</td>\n",
       "      <td>75937</td>\n",
       "    </tr>\n",
       "    <tr>\n",
       "      <th>4</th>\n",
       "      <td>4</td>\n",
       "      <td>19489</td>\n",
       "      <td>Orli</td>\n",
       "      <td>Hendricks</td>\n",
       "      <td>Caguas</td>\n",
       "      <td>Puerto Rico</td>\n",
       "      <td>Corporate</td>\n",
       "      <td>PR</td>\n",
       "      <td>8671 Iron Anchor Corners</td>\n",
       "      <td>725.0</td>\n",
       "      <td>75936</td>\n",
       "    </tr>\n",
       "  </tbody>\n",
       "</table>\n",
       "</div>"
      ],
      "text/plain": [
       "   Unnamed: 0  Customer Id Customer Fname Customer Lname Customer City  \\\n",
       "0           0        20755          Cally       Holloway        Caguas   \n",
       "1           1        19492          Irene           Luna        Caguas   \n",
       "2           2        19491        Gillian      Maldonado      San Jose   \n",
       "3           3        19490           Tana           Tate   Los Angeles   \n",
       "4           4        19489           Orli      Hendricks        Caguas   \n",
       "\n",
       "  Customer Country Customer Segment Customer State           Customer Street  \\\n",
       "0      Puerto Rico         Consumer             PR  5365 Noble Nectar Island   \n",
       "1      Puerto Rico         Consumer             PR          2679 Rustic Loop   \n",
       "2          EE. UU.         Consumer             CA      8510 Round Bear Gate   \n",
       "3          EE. UU.      Home Office             CA           3200 Amber Bend   \n",
       "4      Puerto Rico        Corporate             PR  8671 Iron Anchor Corners   \n",
       "\n",
       "   Customer Zipcode  Order Id  \n",
       "0             725.0     77202  \n",
       "1             725.0     75939  \n",
       "2           95125.0     75938  \n",
       "3           90027.0     75937  \n",
       "4             725.0     75936  "
      ]
     },
     "execution_count": 210,
     "metadata": {},
     "output_type": "execute_result"
    }
   ],
   "source": [
    "# Sample of customers\n",
    "customers.head()"
   ]
  },
  {
   "cell_type": "code",
   "execution_count": 211,
   "metadata": {},
   "outputs": [
    {
     "data": {
      "text/plain": [
       "Unnamed: 0            int64\n",
       "Customer Id           int64\n",
       "Customer Fname       object\n",
       "Customer Lname       object\n",
       "Customer City        object\n",
       "Customer Country     object\n",
       "Customer Segment     object\n",
       "Customer State       object\n",
       "Customer Street      object\n",
       "Customer Zipcode    float64\n",
       "Order Id              int64\n",
       "dtype: object"
      ]
     },
     "execution_count": 211,
     "metadata": {},
     "output_type": "execute_result"
    }
   ],
   "source": [
    "# Check customers columns datatype\n",
    "customers.dtypes"
   ]
  },
  {
   "cell_type": "code",
   "execution_count": 212,
   "metadata": {},
   "outputs": [
    {
     "data": {
      "text/plain": [
       "array(['Puerto Rico'], dtype=object)"
      ]
     },
     "execution_count": 212,
     "metadata": {},
     "output_type": "execute_result"
    }
   ],
   "source": [
    "# Check zipcode column for any similarity\n",
    "trial = customers[customers['Customer Zipcode'] < 1000]\n",
    "values = trial['Customer Country'].unique()\n",
    "values "
   ]
  },
  {
   "cell_type": "code",
   "execution_count": 213,
   "metadata": {},
   "outputs": [
    {
     "data": {
      "text/html": [
       "<div>\n",
       "<style scoped>\n",
       "    .dataframe tbody tr th:only-of-type {\n",
       "        vertical-align: middle;\n",
       "    }\n",
       "\n",
       "    .dataframe tbody tr th {\n",
       "        vertical-align: top;\n",
       "    }\n",
       "\n",
       "    .dataframe thead th {\n",
       "        text-align: right;\n",
       "    }\n",
       "</style>\n",
       "<table border=\"1\" class=\"dataframe\">\n",
       "  <thead>\n",
       "    <tr style=\"text-align: right;\">\n",
       "      <th></th>\n",
       "      <th>Unnamed: 0</th>\n",
       "      <th>Customer Id</th>\n",
       "      <th>Customer Fname</th>\n",
       "      <th>Customer Lname</th>\n",
       "      <th>Customer City</th>\n",
       "      <th>Customer Country</th>\n",
       "      <th>Customer Segment</th>\n",
       "      <th>Customer State</th>\n",
       "      <th>Customer Street</th>\n",
       "      <th>Customer Zipcode</th>\n",
       "      <th>Order Id</th>\n",
       "    </tr>\n",
       "  </thead>\n",
       "  <tbody>\n",
       "    <tr>\n",
       "      <th>0</th>\n",
       "      <td>0</td>\n",
       "      <td>20755</td>\n",
       "      <td>Cally</td>\n",
       "      <td>Holloway</td>\n",
       "      <td>Caguas</td>\n",
       "      <td>Puerto Rico</td>\n",
       "      <td>Consumer</td>\n",
       "      <td>PR</td>\n",
       "      <td>5365 Noble Nectar Island</td>\n",
       "      <td>00725</td>\n",
       "      <td>77202</td>\n",
       "    </tr>\n",
       "    <tr>\n",
       "      <th>1</th>\n",
       "      <td>1</td>\n",
       "      <td>19492</td>\n",
       "      <td>Irene</td>\n",
       "      <td>Luna</td>\n",
       "      <td>Caguas</td>\n",
       "      <td>Puerto Rico</td>\n",
       "      <td>Consumer</td>\n",
       "      <td>PR</td>\n",
       "      <td>2679 Rustic Loop</td>\n",
       "      <td>00725</td>\n",
       "      <td>75939</td>\n",
       "    </tr>\n",
       "    <tr>\n",
       "      <th>2</th>\n",
       "      <td>2</td>\n",
       "      <td>19491</td>\n",
       "      <td>Gillian</td>\n",
       "      <td>Maldonado</td>\n",
       "      <td>San Jose</td>\n",
       "      <td>EE. UU.</td>\n",
       "      <td>Consumer</td>\n",
       "      <td>CA</td>\n",
       "      <td>8510 Round Bear Gate</td>\n",
       "      <td>95125</td>\n",
       "      <td>75938</td>\n",
       "    </tr>\n",
       "    <tr>\n",
       "      <th>3</th>\n",
       "      <td>3</td>\n",
       "      <td>19490</td>\n",
       "      <td>Tana</td>\n",
       "      <td>Tate</td>\n",
       "      <td>Los Angeles</td>\n",
       "      <td>EE. UU.</td>\n",
       "      <td>Home Office</td>\n",
       "      <td>CA</td>\n",
       "      <td>3200 Amber Bend</td>\n",
       "      <td>90027</td>\n",
       "      <td>75937</td>\n",
       "    </tr>\n",
       "    <tr>\n",
       "      <th>4</th>\n",
       "      <td>4</td>\n",
       "      <td>19489</td>\n",
       "      <td>Orli</td>\n",
       "      <td>Hendricks</td>\n",
       "      <td>Caguas</td>\n",
       "      <td>Puerto Rico</td>\n",
       "      <td>Corporate</td>\n",
       "      <td>PR</td>\n",
       "      <td>8671 Iron Anchor Corners</td>\n",
       "      <td>00725</td>\n",
       "      <td>75936</td>\n",
       "    </tr>\n",
       "  </tbody>\n",
       "</table>\n",
       "</div>"
      ],
      "text/plain": [
       "   Unnamed: 0  Customer Id Customer Fname Customer Lname Customer City  \\\n",
       "0           0        20755          Cally       Holloway        Caguas   \n",
       "1           1        19492          Irene           Luna        Caguas   \n",
       "2           2        19491        Gillian      Maldonado      San Jose   \n",
       "3           3        19490           Tana           Tate   Los Angeles   \n",
       "4           4        19489           Orli      Hendricks        Caguas   \n",
       "\n",
       "  Customer Country Customer Segment Customer State           Customer Street  \\\n",
       "0      Puerto Rico         Consumer             PR  5365 Noble Nectar Island   \n",
       "1      Puerto Rico         Consumer             PR          2679 Rustic Loop   \n",
       "2          EE. UU.         Consumer             CA      8510 Round Bear Gate   \n",
       "3          EE. UU.      Home Office             CA           3200 Amber Bend   \n",
       "4      Puerto Rico        Corporate             PR  8671 Iron Anchor Corners   \n",
       "\n",
       "  Customer Zipcode  Order Id  \n",
       "0            00725     77202  \n",
       "1            00725     75939  \n",
       "2            95125     75938  \n",
       "3            90027     75937  \n",
       "4            00725     75936  "
      ]
     },
     "execution_count": 213,
     "metadata": {},
     "output_type": "execute_result"
    }
   ],
   "source": [
    "# Remove lagging '.0' from all values and add leading '00' to all values less than a 1000 in Customer Zipcode column\n",
    "customers['Customer Zipcode'] = customers['Customer Zipcode'].astype(str)\n",
    "numeric_values = pd.to_numeric(customers['Customer Zipcode'], errors='coerce')\n",
    "condition = (numeric_values < 1000) & (~numeric_values.isna()) # values less than 100 and values that are not NA\n",
    "customers.loc[condition,'Customer Zipcode'] = '00' + customers['Customer Zipcode']\n",
    "customers['Customer Zipcode'] = customers['Customer Zipcode'].str.rstrip('.0')\n",
    "customers['Customer Zipcode'].astype('object')\n",
    "customers.head()"
   ]
  },
  {
   "cell_type": "code",
   "execution_count": 214,
   "metadata": {},
   "outputs": [
    {
     "data": {
      "text/plain": [
       "array(['PR', 'CA', 'NY', 'FL', 'MA', 'IL', 'MT', 'PA', 'MI', 'TX', 'DE',\n",
       "       'GA', 'MD', 'OH', 'HI', 'NJ', 'WI', 'AZ', 'CO', 'MN', 'NC', 'NM',\n",
       "       'OR', 'SC', 'VA', 'UT', 'WA', 'KY', 'WV', 'RI', 'CT', 'LA', 'TN',\n",
       "       'DC', 'ND', 'MO', 'IN', 'ID', 'NV', 'KS', 'AR', 'OK', 'AL', 'IA',\n",
       "       '95758', '91732'], dtype=object)"
      ]
     },
     "execution_count": 214,
     "metadata": {},
     "output_type": "execute_result"
    }
   ],
   "source": [
    "# Check customer state categorical values\n",
    "customers['Customer State'].unique()"
   ]
  },
  {
   "cell_type": "code",
   "execution_count": 215,
   "metadata": {},
   "outputs": [],
   "source": [
    "# Replace numerical value state and ZIP code\n",
    "customers.loc[customers['Customer State'] == '91732', 'Customer State'] = 'CA'\n",
    "customers.loc[customers['Customer State'] == '91732', 'Customer Zipcode'] = 91732\n",
    "\n",
    "customers.loc[customers['Customer State'] == '95758', 'Customer State'] = 'CA'\n",
    "customers.loc[customers['Customer State'] == '95758', 'Customer Zipcode'] = 95758\n"
   ]
  },
  {
   "cell_type": "code",
   "execution_count": 216,
   "metadata": {},
   "outputs": [],
   "source": [
    "# Replace CA customer city categorical value 'CA'\n",
    "customers[customers['Customer City'] == 'CA'] # Use to crosscheck values\n",
    "customers.loc[customers['Customer City'] == 'CA', 'Customer Zipcode'] = '95758'\n",
    "customers.loc[customers['Customer City'] == 'CA', 'Customer City'] = 'Elk Grove'"
   ]
  },
  {
   "cell_type": "code",
   "execution_count": 217,
   "metadata": {},
   "outputs": [
    {
     "data": {
      "text/html": [
       "<div>\n",
       "<style scoped>\n",
       "    .dataframe tbody tr th:only-of-type {\n",
       "        vertical-align: middle;\n",
       "    }\n",
       "\n",
       "    .dataframe tbody tr th {\n",
       "        vertical-align: top;\n",
       "    }\n",
       "\n",
       "    .dataframe thead th {\n",
       "        text-align: right;\n",
       "    }\n",
       "</style>\n",
       "<table border=\"1\" class=\"dataframe\">\n",
       "  <thead>\n",
       "    <tr style=\"text-align: right;\">\n",
       "      <th></th>\n",
       "      <th>Unnamed: 0</th>\n",
       "      <th>Order Id</th>\n",
       "      <th>Department Id</th>\n",
       "      <th>Department Name</th>\n",
       "      <th>Latitude</th>\n",
       "      <th>Longitude</th>\n",
       "    </tr>\n",
       "  </thead>\n",
       "  <tbody>\n",
       "    <tr>\n",
       "      <th>0</th>\n",
       "      <td>0</td>\n",
       "      <td>77202</td>\n",
       "      <td>2</td>\n",
       "      <td>Fitness</td>\n",
       "      <td>18.251453</td>\n",
       "      <td>-66.037056</td>\n",
       "    </tr>\n",
       "    <tr>\n",
       "      <th>1</th>\n",
       "      <td>1</td>\n",
       "      <td>75939</td>\n",
       "      <td>2</td>\n",
       "      <td>Fitness</td>\n",
       "      <td>18.279451</td>\n",
       "      <td>-66.037064</td>\n",
       "    </tr>\n",
       "    <tr>\n",
       "      <th>2</th>\n",
       "      <td>2</td>\n",
       "      <td>75938</td>\n",
       "      <td>2</td>\n",
       "      <td>Fitness</td>\n",
       "      <td>37.292233</td>\n",
       "      <td>-121.881279</td>\n",
       "    </tr>\n",
       "    <tr>\n",
       "      <th>3</th>\n",
       "      <td>3</td>\n",
       "      <td>75937</td>\n",
       "      <td>2</td>\n",
       "      <td>Fitness</td>\n",
       "      <td>34.125946</td>\n",
       "      <td>-118.291016</td>\n",
       "    </tr>\n",
       "    <tr>\n",
       "      <th>4</th>\n",
       "      <td>4</td>\n",
       "      <td>75936</td>\n",
       "      <td>2</td>\n",
       "      <td>Fitness</td>\n",
       "      <td>18.253769</td>\n",
       "      <td>-66.037048</td>\n",
       "    </tr>\n",
       "  </tbody>\n",
       "</table>\n",
       "</div>"
      ],
      "text/plain": [
       "   Unnamed: 0  Order Id  Department Id Department Name   Latitude   Longitude\n",
       "0           0     77202              2         Fitness  18.251453  -66.037056\n",
       "1           1     75939              2         Fitness  18.279451  -66.037064\n",
       "2           2     75938              2         Fitness  37.292233 -121.881279\n",
       "3           3     75937              2         Fitness  34.125946 -118.291016\n",
       "4           4     75936              2         Fitness  18.253769  -66.037048"
      ]
     },
     "execution_count": 217,
     "metadata": {},
     "output_type": "execute_result"
    }
   ],
   "source": [
    "# Preview the departments table\n",
    "departments.head()"
   ]
  },
  {
   "cell_type": "code",
   "execution_count": 218,
   "metadata": {},
   "outputs": [
    {
     "data": {
      "text/plain": [
       "Unnamed: 0           int64\n",
       "Order Id             int64\n",
       "Department Id        int64\n",
       "Department Name     object\n",
       "Latitude           float64\n",
       "Longitude          float64\n",
       "dtype: object"
      ]
     },
     "execution_count": 218,
     "metadata": {},
     "output_type": "execute_result"
    }
   ],
   "source": [
    "departments.dtypes"
   ]
  },
  {
   "cell_type": "code",
   "execution_count": 219,
   "metadata": {},
   "outputs": [
    {
     "data": {
      "text/plain": [
       "array(['Fitness', 'Apparel', 'Golf', 'Footwear', 'Outdoors', 'Fan Shop',\n",
       "       'Technology', 'Book Shop', 'Discs Shop', 'Pet Shop',\n",
       "       'Health and Beauty '], dtype=object)"
      ]
     },
     "execution_count": 219,
     "metadata": {},
     "output_type": "execute_result"
    }
   ],
   "source": [
    "# Check categorical values for any errors\n",
    "departments['Department Name'].unique()"
   ]
  },
  {
   "cell_type": "code",
   "execution_count": 220,
   "metadata": {},
   "outputs": [
    {
     "data": {
      "text/html": [
       "<div>\n",
       "<style scoped>\n",
       "    .dataframe tbody tr th:only-of-type {\n",
       "        vertical-align: middle;\n",
       "    }\n",
       "\n",
       "    .dataframe tbody tr th {\n",
       "        vertical-align: top;\n",
       "    }\n",
       "\n",
       "    .dataframe thead th {\n",
       "        text-align: right;\n",
       "    }\n",
       "</style>\n",
       "<table border=\"1\" class=\"dataframe\">\n",
       "  <thead>\n",
       "    <tr style=\"text-align: right;\">\n",
       "      <th></th>\n",
       "      <th>Unnamed: 0</th>\n",
       "      <th>Order Id</th>\n",
       "      <th>Department Id</th>\n",
       "      <th>Department Name</th>\n",
       "      <th>Latitude</th>\n",
       "      <th>Longitude</th>\n",
       "    </tr>\n",
       "  </thead>\n",
       "  <tbody>\n",
       "  </tbody>\n",
       "</table>\n",
       "</div>"
      ],
      "text/plain": [
       "Empty DataFrame\n",
       "Columns: [Unnamed: 0, Order Id, Department Id, Department Name, Latitude, Longitude]\n",
       "Index: []"
      ]
     },
     "execution_count": 220,
     "metadata": {},
     "output_type": "execute_result"
    }
   ],
   "source": [
    "# Ensure all latitude values are in range\n",
    "departments[(departments['Latitude'] < -90) | (departments['Latitude'] > 90)]"
   ]
  },
  {
   "cell_type": "code",
   "execution_count": 221,
   "metadata": {},
   "outputs": [
    {
     "data": {
      "text/html": [
       "<div>\n",
       "<style scoped>\n",
       "    .dataframe tbody tr th:only-of-type {\n",
       "        vertical-align: middle;\n",
       "    }\n",
       "\n",
       "    .dataframe tbody tr th {\n",
       "        vertical-align: top;\n",
       "    }\n",
       "\n",
       "    .dataframe thead th {\n",
       "        text-align: right;\n",
       "    }\n",
       "</style>\n",
       "<table border=\"1\" class=\"dataframe\">\n",
       "  <thead>\n",
       "    <tr style=\"text-align: right;\">\n",
       "      <th></th>\n",
       "      <th>Unnamed: 0</th>\n",
       "      <th>Order Id</th>\n",
       "      <th>Department Id</th>\n",
       "      <th>Department Name</th>\n",
       "      <th>Latitude</th>\n",
       "      <th>Longitude</th>\n",
       "    </tr>\n",
       "  </thead>\n",
       "  <tbody>\n",
       "  </tbody>\n",
       "</table>\n",
       "</div>"
      ],
      "text/plain": [
       "Empty DataFrame\n",
       "Columns: [Unnamed: 0, Order Id, Department Id, Department Name, Latitude, Longitude]\n",
       "Index: []"
      ]
     },
     "execution_count": 221,
     "metadata": {},
     "output_type": "execute_result"
    }
   ],
   "source": [
    "# Ensure all longitude values are in range\n",
    "departments[(departments['Longitude'] < -180) | (departments['Longitude'] > 180)]"
   ]
  },
  {
   "cell_type": "code",
   "execution_count": 222,
   "metadata": {},
   "outputs": [
    {
     "data": {
      "text/html": [
       "<div>\n",
       "<style scoped>\n",
       "    .dataframe tbody tr th:only-of-type {\n",
       "        vertical-align: middle;\n",
       "    }\n",
       "\n",
       "    .dataframe tbody tr th {\n",
       "        vertical-align: top;\n",
       "    }\n",
       "\n",
       "    .dataframe thead th {\n",
       "        text-align: right;\n",
       "    }\n",
       "</style>\n",
       "<table border=\"1\" class=\"dataframe\">\n",
       "  <thead>\n",
       "    <tr style=\"text-align: right;\">\n",
       "      <th></th>\n",
       "      <th>Unnamed: 0</th>\n",
       "      <th>Order Id</th>\n",
       "      <th>Product Name</th>\n",
       "      <th>Order Item Id</th>\n",
       "      <th>Sales</th>\n",
       "      <th>Order Item Total</th>\n",
       "      <th>Order Item Discount</th>\n",
       "      <th>Order Item Discount Rate</th>\n",
       "      <th>Order Item Profit Ratio</th>\n",
       "      <th>Order Item Quantity</th>\n",
       "      <th>Order Status</th>\n",
       "      <th>Benefit per order</th>\n",
       "      <th>Type</th>\n",
       "      <th>order date (DateOrders)</th>\n",
       "      <th>Market</th>\n",
       "      <th>Category Id</th>\n",
       "    </tr>\n",
       "  </thead>\n",
       "  <tbody>\n",
       "    <tr>\n",
       "      <th>0</th>\n",
       "      <td>0</td>\n",
       "      <td>77202</td>\n",
       "      <td>Smart watch</td>\n",
       "      <td>180517</td>\n",
       "      <td>327.75</td>\n",
       "      <td>314.640015</td>\n",
       "      <td>13.110000</td>\n",
       "      <td>0.04</td>\n",
       "      <td>0.29</td>\n",
       "      <td>1</td>\n",
       "      <td>COMPLETE</td>\n",
       "      <td>91.250000</td>\n",
       "      <td>DEBIT</td>\n",
       "      <td>1/31/2018 22:56</td>\n",
       "      <td>Pacific Asia</td>\n",
       "      <td>73</td>\n",
       "    </tr>\n",
       "    <tr>\n",
       "      <th>1</th>\n",
       "      <td>1</td>\n",
       "      <td>75939</td>\n",
       "      <td>Smart watch</td>\n",
       "      <td>179254</td>\n",
       "      <td>327.75</td>\n",
       "      <td>311.359985</td>\n",
       "      <td>16.389999</td>\n",
       "      <td>0.05</td>\n",
       "      <td>-0.80</td>\n",
       "      <td>1</td>\n",
       "      <td>PENDING</td>\n",
       "      <td>-249.089996</td>\n",
       "      <td>TRANSFER</td>\n",
       "      <td>1/13/2018 12:27</td>\n",
       "      <td>Pacific Asia</td>\n",
       "      <td>73</td>\n",
       "    </tr>\n",
       "    <tr>\n",
       "      <th>2</th>\n",
       "      <td>2</td>\n",
       "      <td>75938</td>\n",
       "      <td>Smart watch</td>\n",
       "      <td>179253</td>\n",
       "      <td>327.75</td>\n",
       "      <td>309.720001</td>\n",
       "      <td>18.030001</td>\n",
       "      <td>0.06</td>\n",
       "      <td>-0.80</td>\n",
       "      <td>1</td>\n",
       "      <td>CLOSED</td>\n",
       "      <td>-247.779999</td>\n",
       "      <td>CASH</td>\n",
       "      <td>1/13/2018 12:06</td>\n",
       "      <td>Pacific Asia</td>\n",
       "      <td>73</td>\n",
       "    </tr>\n",
       "    <tr>\n",
       "      <th>3</th>\n",
       "      <td>3</td>\n",
       "      <td>75937</td>\n",
       "      <td>Smart watch</td>\n",
       "      <td>179252</td>\n",
       "      <td>327.75</td>\n",
       "      <td>304.809998</td>\n",
       "      <td>22.940001</td>\n",
       "      <td>0.07</td>\n",
       "      <td>0.08</td>\n",
       "      <td>1</td>\n",
       "      <td>COMPLETE</td>\n",
       "      <td>22.860001</td>\n",
       "      <td>DEBIT</td>\n",
       "      <td>1/13/2018 11:45</td>\n",
       "      <td>Pacific Asia</td>\n",
       "      <td>73</td>\n",
       "    </tr>\n",
       "    <tr>\n",
       "      <th>4</th>\n",
       "      <td>4</td>\n",
       "      <td>75936</td>\n",
       "      <td>Smart watch</td>\n",
       "      <td>179251</td>\n",
       "      <td>327.75</td>\n",
       "      <td>298.250000</td>\n",
       "      <td>29.500000</td>\n",
       "      <td>0.09</td>\n",
       "      <td>0.45</td>\n",
       "      <td>1</td>\n",
       "      <td>PENDING_PAYMENT</td>\n",
       "      <td>134.210007</td>\n",
       "      <td>PAYMENT</td>\n",
       "      <td>1/13/2018 11:24</td>\n",
       "      <td>Pacific Asia</td>\n",
       "      <td>73</td>\n",
       "    </tr>\n",
       "  </tbody>\n",
       "</table>\n",
       "</div>"
      ],
      "text/plain": [
       "   Unnamed: 0  Order Id  Product Name  Order Item Id   Sales  \\\n",
       "0           0     77202  Smart watch          180517  327.75   \n",
       "1           1     75939  Smart watch          179254  327.75   \n",
       "2           2     75938  Smart watch          179253  327.75   \n",
       "3           3     75937  Smart watch          179252  327.75   \n",
       "4           4     75936  Smart watch          179251  327.75   \n",
       "\n",
       "   Order Item Total  Order Item Discount  Order Item Discount Rate  \\\n",
       "0        314.640015            13.110000                      0.04   \n",
       "1        311.359985            16.389999                      0.05   \n",
       "2        309.720001            18.030001                      0.06   \n",
       "3        304.809998            22.940001                      0.07   \n",
       "4        298.250000            29.500000                      0.09   \n",
       "\n",
       "   Order Item Profit Ratio  Order Item Quantity     Order Status  \\\n",
       "0                     0.29                    1         COMPLETE   \n",
       "1                    -0.80                    1          PENDING   \n",
       "2                    -0.80                    1           CLOSED   \n",
       "3                     0.08                    1         COMPLETE   \n",
       "4                     0.45                    1  PENDING_PAYMENT   \n",
       "\n",
       "   Benefit per order      Type order date (DateOrders)        Market  \\\n",
       "0          91.250000     DEBIT         1/31/2018 22:56  Pacific Asia   \n",
       "1        -249.089996  TRANSFER         1/13/2018 12:27  Pacific Asia   \n",
       "2        -247.779999      CASH         1/13/2018 12:06  Pacific Asia   \n",
       "3          22.860001     DEBIT         1/13/2018 11:45  Pacific Asia   \n",
       "4         134.210007   PAYMENT         1/13/2018 11:24  Pacific Asia   \n",
       "\n",
       "   Category Id  \n",
       "0           73  \n",
       "1           73  \n",
       "2           73  \n",
       "3           73  \n",
       "4           73  "
      ]
     },
     "execution_count": 222,
     "metadata": {},
     "output_type": "execute_result"
    }
   ],
   "source": [
    "# Preview orders table\n",
    "orders.head()"
   ]
  },
  {
   "cell_type": "code",
   "execution_count": 223,
   "metadata": {},
   "outputs": [
    {
     "data": {
      "text/plain": [
       "array(['DEBIT', 'TRANSFER', 'CASH', 'PAYMENT'], dtype=object)"
      ]
     },
     "execution_count": 223,
     "metadata": {},
     "output_type": "execute_result"
    }
   ],
   "source": [
    "# Check unique categorical values\n",
    "orders['Type'].unique()"
   ]
  },
  {
   "cell_type": "code",
   "execution_count": 224,
   "metadata": {},
   "outputs": [
    {
     "data": {
      "text/plain": [
       "array(['COMPLETE', 'PENDING', 'CLOSED', 'PENDING_PAYMENT', 'CANCELED',\n",
       "       'PROCESSING', 'SUSPECTED_FRAUD', 'ON_HOLD', 'PAYMENT_REVIEW'],\n",
       "      dtype=object)"
      ]
     },
     "execution_count": 224,
     "metadata": {},
     "output_type": "execute_result"
    }
   ],
   "source": [
    "# Check unique categorical values\n",
    "orders['Order Status'].unique()"
   ]
  },
  {
   "cell_type": "code",
   "execution_count": 225,
   "metadata": {},
   "outputs": [
    {
     "data": {
      "text/plain": [
       "array(['Pacific Asia', 'USCA', 'Africa', 'Europe', 'LATAM'], dtype=object)"
      ]
     },
     "execution_count": 225,
     "metadata": {},
     "output_type": "execute_result"
    }
   ],
   "source": [
    "# Check unique categorical values\n",
    "orders['Market'].unique()"
   ]
  },
  {
   "cell_type": "code",
   "execution_count": 226,
   "metadata": {},
   "outputs": [
    {
     "data": {
      "text/plain": [
       "Unnamed: 0                    int64\n",
       "Order Id                      int64\n",
       "Product Name                 object\n",
       "Order Item Id                 int64\n",
       "Sales                       float64\n",
       "Order Item Total            float64\n",
       "Order Item Discount         float64\n",
       "Order Item Discount Rate    float64\n",
       "Order Item Profit Ratio     float64\n",
       "Order Item Quantity           int64\n",
       "Order Status                 object\n",
       "Benefit per order           float64\n",
       "Type                         object\n",
       "order date (DateOrders)      object\n",
       "Market                       object\n",
       "Category Id                   int64\n",
       "dtype: object"
      ]
     },
     "execution_count": 226,
     "metadata": {},
     "output_type": "execute_result"
    }
   ],
   "source": [
    "# Check Data types\n",
    "orders.dtypes"
   ]
  },
  {
   "cell_type": "code",
   "execution_count": 227,
   "metadata": {},
   "outputs": [
    {
     "data": {
      "text/html": [
       "<div>\n",
       "<style scoped>\n",
       "    .dataframe tbody tr th:only-of-type {\n",
       "        vertical-align: middle;\n",
       "    }\n",
       "\n",
       "    .dataframe tbody tr th {\n",
       "        vertical-align: top;\n",
       "    }\n",
       "\n",
       "    .dataframe thead th {\n",
       "        text-align: right;\n",
       "    }\n",
       "</style>\n",
       "<table border=\"1\" class=\"dataframe\">\n",
       "  <thead>\n",
       "    <tr style=\"text-align: right;\">\n",
       "      <th></th>\n",
       "      <th>Unnamed: 0</th>\n",
       "      <th>Order Id</th>\n",
       "      <th>Days for shipping (real)</th>\n",
       "      <th>Days for shipment (scheduled)</th>\n",
       "      <th>Delivery Status</th>\n",
       "      <th>Late_delivery_risk</th>\n",
       "      <th>shipping date (DateOrders)</th>\n",
       "      <th>Shipping Mode</th>\n",
       "    </tr>\n",
       "  </thead>\n",
       "  <tbody>\n",
       "    <tr>\n",
       "      <th>0</th>\n",
       "      <td>0</td>\n",
       "      <td>77202</td>\n",
       "      <td>3</td>\n",
       "      <td>4</td>\n",
       "      <td>Advance shipping</td>\n",
       "      <td>0</td>\n",
       "      <td>02/03/2018 22:56</td>\n",
       "      <td>Standard Class</td>\n",
       "    </tr>\n",
       "    <tr>\n",
       "      <th>1</th>\n",
       "      <td>1</td>\n",
       "      <td>75939</td>\n",
       "      <td>5</td>\n",
       "      <td>4</td>\n",
       "      <td>Late delivery</td>\n",
       "      <td>1</td>\n",
       "      <td>1/18/2018 12:27</td>\n",
       "      <td>Standard Class</td>\n",
       "    </tr>\n",
       "    <tr>\n",
       "      <th>2</th>\n",
       "      <td>2</td>\n",
       "      <td>75938</td>\n",
       "      <td>4</td>\n",
       "      <td>4</td>\n",
       "      <td>Shipping on time</td>\n",
       "      <td>0</td>\n",
       "      <td>1/17/2018 12:06</td>\n",
       "      <td>Standard Class</td>\n",
       "    </tr>\n",
       "    <tr>\n",
       "      <th>3</th>\n",
       "      <td>3</td>\n",
       "      <td>75937</td>\n",
       "      <td>3</td>\n",
       "      <td>4</td>\n",
       "      <td>Advance shipping</td>\n",
       "      <td>0</td>\n",
       "      <td>1/16/2018 11:45</td>\n",
       "      <td>Standard Class</td>\n",
       "    </tr>\n",
       "    <tr>\n",
       "      <th>4</th>\n",
       "      <td>4</td>\n",
       "      <td>75936</td>\n",
       "      <td>2</td>\n",
       "      <td>4</td>\n",
       "      <td>Advance shipping</td>\n",
       "      <td>0</td>\n",
       "      <td>1/15/2018 11:24</td>\n",
       "      <td>Standard Class</td>\n",
       "    </tr>\n",
       "  </tbody>\n",
       "</table>\n",
       "</div>"
      ],
      "text/plain": [
       "   Unnamed: 0  Order Id  Days for shipping (real)  \\\n",
       "0           0     77202                         3   \n",
       "1           1     75939                         5   \n",
       "2           2     75938                         4   \n",
       "3           3     75937                         3   \n",
       "4           4     75936                         2   \n",
       "\n",
       "   Days for shipment (scheduled)   Delivery Status  Late_delivery_risk  \\\n",
       "0                              4  Advance shipping                   0   \n",
       "1                              4     Late delivery                   1   \n",
       "2                              4  Shipping on time                   0   \n",
       "3                              4  Advance shipping                   0   \n",
       "4                              4  Advance shipping                   0   \n",
       "\n",
       "  shipping date (DateOrders)   Shipping Mode  \n",
       "0           02/03/2018 22:56  Standard Class  \n",
       "1            1/18/2018 12:27  Standard Class  \n",
       "2            1/17/2018 12:06  Standard Class  \n",
       "3            1/16/2018 11:45  Standard Class  \n",
       "4            1/15/2018 11:24  Standard Class  "
      ]
     },
     "execution_count": 227,
     "metadata": {},
     "output_type": "execute_result"
    }
   ],
   "source": [
    "# Preview shipment table\n",
    "shipment.head()"
   ]
  },
  {
   "cell_type": "code",
   "execution_count": 228,
   "metadata": {},
   "outputs": [
    {
     "data": {
      "text/plain": [
       "array(['Advance shipping', 'Late delivery', 'Shipping on time',\n",
       "       'Shipping canceled'], dtype=object)"
      ]
     },
     "execution_count": 228,
     "metadata": {},
     "output_type": "execute_result"
    }
   ],
   "source": [
    "# Check unique categorical column values\n",
    "shipment['Delivery Status'].unique()"
   ]
  },
  {
   "cell_type": "code",
   "execution_count": 229,
   "metadata": {},
   "outputs": [
    {
     "data": {
      "text/plain": [
       "array(['Standard Class', 'First Class', 'Second Class', 'Same Day'],\n",
       "      dtype=object)"
      ]
     },
     "execution_count": 229,
     "metadata": {},
     "output_type": "execute_result"
    }
   ],
   "source": [
    "# Check unique categorical column values\n",
    "shipment['Shipping Mode'].unique()"
   ]
  },
  {
   "cell_type": "code",
   "execution_count": 230,
   "metadata": {},
   "outputs": [
    {
     "data": {
      "text/plain": [
       "Unnamed: 0                        int64\n",
       "Order Id                          int64\n",
       "Days for shipping (real)          int64\n",
       "Days for shipment (scheduled)     int64\n",
       "Delivery Status                  object\n",
       "Late_delivery_risk                int64\n",
       "shipping date (DateOrders)       object\n",
       "Shipping Mode                    object\n",
       "dtype: object"
      ]
     },
     "execution_count": 230,
     "metadata": {},
     "output_type": "execute_result"
    }
   ],
   "source": [
    "# Check column Datatypes\n",
    "shipment.dtypes"
   ]
  },
  {
   "cell_type": "code",
   "execution_count": 231,
   "metadata": {},
   "outputs": [],
   "source": [
    "# Drop Unnamed: 0 column from every table\n",
    "categories = categories.drop(columns='Unnamed: 0')\n",
    "orders = orders.drop(columns='Unnamed: 0')\n",
    "customers = customers.drop(columns='Unnamed: 0')\n",
    "departments = departments.drop(columns='Unnamed: 0')\n",
    "shipment = shipment.drop(columns='Unnamed: 0')"
   ]
  },
  {
   "cell_type": "code",
   "execution_count": 237,
   "metadata": {},
   "outputs": [
    {
     "data": {
      "text/html": [
       "<div>\n",
       "<style scoped>\n",
       "    .dataframe tbody tr th:only-of-type {\n",
       "        vertical-align: middle;\n",
       "    }\n",
       "\n",
       "    .dataframe tbody tr th {\n",
       "        vertical-align: top;\n",
       "    }\n",
       "\n",
       "    .dataframe thead th {\n",
       "        text-align: right;\n",
       "    }\n",
       "</style>\n",
       "<table border=\"1\" class=\"dataframe\">\n",
       "  <thead>\n",
       "    <tr style=\"text-align: right;\">\n",
       "      <th></th>\n",
       "      <th>Order Id</th>\n",
       "      <th>Days for shipping (real)</th>\n",
       "      <th>Days for shipment (scheduled)</th>\n",
       "      <th>Delivery Status</th>\n",
       "      <th>Late_delivery_risk</th>\n",
       "      <th>shipping date (DateOrders)</th>\n",
       "      <th>Shipping Mode</th>\n",
       "    </tr>\n",
       "  </thead>\n",
       "  <tbody>\n",
       "    <tr>\n",
       "      <th>0</th>\n",
       "      <td>77202</td>\n",
       "      <td>3</td>\n",
       "      <td>4</td>\n",
       "      <td>Advance shipping</td>\n",
       "      <td>0</td>\n",
       "      <td>02/03/2018 22:56</td>\n",
       "      <td>Standard Class</td>\n",
       "    </tr>\n",
       "    <tr>\n",
       "      <th>1</th>\n",
       "      <td>75939</td>\n",
       "      <td>5</td>\n",
       "      <td>4</td>\n",
       "      <td>Late delivery</td>\n",
       "      <td>1</td>\n",
       "      <td>1/18/2018 12:27</td>\n",
       "      <td>Standard Class</td>\n",
       "    </tr>\n",
       "    <tr>\n",
       "      <th>2</th>\n",
       "      <td>75938</td>\n",
       "      <td>4</td>\n",
       "      <td>4</td>\n",
       "      <td>Shipping on time</td>\n",
       "      <td>0</td>\n",
       "      <td>1/17/2018 12:06</td>\n",
       "      <td>Standard Class</td>\n",
       "    </tr>\n",
       "    <tr>\n",
       "      <th>3</th>\n",
       "      <td>75937</td>\n",
       "      <td>3</td>\n",
       "      <td>4</td>\n",
       "      <td>Advance shipping</td>\n",
       "      <td>0</td>\n",
       "      <td>1/16/2018 11:45</td>\n",
       "      <td>Standard Class</td>\n",
       "    </tr>\n",
       "    <tr>\n",
       "      <th>4</th>\n",
       "      <td>75936</td>\n",
       "      <td>2</td>\n",
       "      <td>4</td>\n",
       "      <td>Advance shipping</td>\n",
       "      <td>0</td>\n",
       "      <td>1/15/2018 11:24</td>\n",
       "      <td>Standard Class</td>\n",
       "    </tr>\n",
       "  </tbody>\n",
       "</table>\n",
       "</div>"
      ],
      "text/plain": [
       "   Order Id  Days for shipping (real)  Days for shipment (scheduled)  \\\n",
       "0     77202                         3                              4   \n",
       "1     75939                         5                              4   \n",
       "2     75938                         4                              4   \n",
       "3     75937                         3                              4   \n",
       "4     75936                         2                              4   \n",
       "\n",
       "    Delivery Status  Late_delivery_risk shipping date (DateOrders)  \\\n",
       "0  Advance shipping                   0           02/03/2018 22:56   \n",
       "1     Late delivery                   1            1/18/2018 12:27   \n",
       "2  Shipping on time                   0            1/17/2018 12:06   \n",
       "3  Advance shipping                   0            1/16/2018 11:45   \n",
       "4  Advance shipping                   0            1/15/2018 11:24   \n",
       "\n",
       "    Shipping Mode  \n",
       "0  Standard Class  \n",
       "1  Standard Class  \n",
       "2  Standard Class  \n",
       "3  Standard Class  \n",
       "4  Standard Class  "
      ]
     },
     "execution_count": 237,
     "metadata": {},
     "output_type": "execute_result"
    }
   ],
   "source": [
    "# Final check on a random column to verify\n",
    "shipment.head()"
   ]
  },
  {
   "cell_type": "code",
   "execution_count": 238,
   "metadata": {},
   "outputs": [],
   "source": [
    "# Create new csv files for eda\n",
    "categories.to_csv('clean_categories.csv')\n",
    "orders.to_csv('clean_orders.csv')\n",
    "customers.to_csv('clean_customers.csv')\n",
    "departments.to_csv('clean_departments.csv')\n",
    "shipment.to_csv('clean_shipment.csv')"
   ]
  }
 ],
 "metadata": {
  "kernelspec": {
   "display_name": "Python 3",
   "language": "python",
   "name": "python3"
  },
  "language_info": {
   "codemirror_mode": {
    "name": "ipython",
    "version": 3
   },
   "file_extension": ".py",
   "mimetype": "text/x-python",
   "name": "python",
   "nbconvert_exporter": "python",
   "pygments_lexer": "ipython3",
   "version": "3.12.2"
  }
 },
 "nbformat": 4,
 "nbformat_minor": 2
}
